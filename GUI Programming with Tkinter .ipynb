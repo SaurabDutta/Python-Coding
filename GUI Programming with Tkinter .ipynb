{
 "cells": [
  {
   "cell_type": "code",
   "execution_count": 17,
   "metadata": {},
   "outputs": [],
   "source": [
    "#First Program\n",
    "import tkinter\n",
    "from tkinter import *\n",
    "saurab=Tk()\n",
    "saurab.geometry(\"644x444\")\n",
    "#(\"width x height\")\n",
    "saurab.mainloop()"
   ]
  },
  {
   "cell_type": "code",
   "execution_count": 22,
   "metadata": {},
   "outputs": [],
   "source": [
    "#Second Program : Setting a minimum width and height\n",
    "import tkinter\n",
    "from tkinter import *\n",
    "saurab=Tk()\n",
    "saurab.minsize(200,100)\n",
    "#saurab.geometry(\"644x444\")\n",
    "#(\"width x height\")\n",
    "saurab.mainloop()\n"
   ]
  },
  {
   "cell_type": "code",
   "execution_count": 24,
   "metadata": {},
   "outputs": [],
   "source": [
    "'''Third Program : Setting a minimum width and height as well as \n",
    "   maximum width and height ''' \n",
    "\n",
    "import tkinter\n",
    "from tkinter import *\n",
    "saurab=Tk()\n",
    "saurab.minsize(200,100)\n",
    "saurab.maxsize(400,600)\n",
    "#saurab.geometry(\"644x444\")\n",
    "#(\"width x height\")\n",
    "saurab.mainloop()\n"
   ]
  },
  {
   "cell_type": "code",
   "execution_count": 27,
   "metadata": {},
   "outputs": [],
   "source": [
    "'''Fourth Program : Calling a Label ''' \n",
    "\n",
    "import tkinter\n",
    "from tkinter import *\n",
    "saurab=Tk()\n",
    "saurab.minsize(600,600)\n",
    "saurab.maxsize(800,1200)\n",
    "saurab1=Label(text=\"This is my  GUI with label\")\n",
    "saurab1.pack()\n",
    "#saurab.geometry(\"644x444\")\n",
    "#(\"width x height\")\n",
    "saurab.mainloop()\n"
   ]
  },
  {
   "cell_type": "code",
   "execution_count": 45,
   "metadata": {},
   "outputs": [],
   "source": [
    "'''Fifth Program : Embedding an image'''\n",
    "from tkinter import *        \n",
    "from PIL import ImageTk, Image\n",
    "#pip install pillow(PIL)\n",
    "'''At first tkinter was supporting .jpg files,but with the help of ImageTk it \n",
    "is also supporting jpeg images'''\n",
    "saurab = Tk()\n",
    "saurab.geometry(\"600x400\")\n",
    "#Setting it up\n",
    "img = ImageTk.PhotoImage(Image.open(\"cat1.png\"))\n",
    "\n",
    "#Displaying it\n",
    "imglabel = Label(saurab, image=img).grid(row=1, column=1)        \n",
    "\n",
    "\n",
    "saurab.mainloop()"
   ]
  },
  {
   "cell_type": "code",
   "execution_count": 69,
   "metadata": {},
   "outputs": [],
   "source": [
    "'''Sixth Program : Usage of labl properties using tkinter'''\n",
    "from tkinter import *\n",
    "from PIL import ImageTk\n",
    "saurab=Tk()\n",
    "saurab.geometry(\"444x400\")\n",
    "saurab.title(\"My GUI\")\n",
    "\n",
    "#Important label options :\n",
    "#text=to add the text\n",
    "#fg=foreground\n",
    "#bg=background\n",
    "#fonts=sets the font\n",
    "#padx= x padding\n",
    "#pady= y padding\n",
    "#relief=Border Style : SUNKEN,RAISED,GROOVE,RIDGE\n",
    "title_label=Label(text='''Hello i am saurab''',bg=\"red\",fg=\"yellow\"\n",
    "                 )\n",
    "title_label.pack()\n",
    "saurab.mainloop()\n",
    "\n",
    "\n",
    "\n",
    "\n"
   ]
  },
  {
   "cell_type": "code",
   "execution_count": null,
   "metadata": {},
   "outputs": [],
   "source": []
  },
  {
   "cell_type": "code",
   "execution_count": null,
   "metadata": {},
   "outputs": [],
   "source": []
  }
 ],
 "metadata": {
  "kernelspec": {
   "display_name": "Python 3",
   "language": "python",
   "name": "python3"
  },
  "language_info": {
   "codemirror_mode": {
    "name": "ipython",
    "version": 3
   },
   "file_extension": ".py",
   "mimetype": "text/x-python",
   "name": "python",
   "nbconvert_exporter": "python",
   "pygments_lexer": "ipython3",
   "version": "3.7.4"
  }
 },
 "nbformat": 4,
 "nbformat_minor": 2
}
