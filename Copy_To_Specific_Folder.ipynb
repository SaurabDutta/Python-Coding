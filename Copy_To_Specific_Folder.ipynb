{
 "cells": [
  {
   "cell_type": "code",
   "execution_count": 1,
   "id": "28c18101",
   "metadata": {},
   "outputs": [],
   "source": [
    "import numpy as np\n",
    "import pandas as pd"
   ]
  },
  {
   "cell_type": "code",
   "execution_count": 2,
   "id": "907b84c4",
   "metadata": {},
   "outputs": [],
   "source": [
    "df=pd.read_excel('D:/Tanmoy_Final/encrypted/encrypted.xlsx')"
   ]
  },
  {
   "cell_type": "code",
   "execution_count": 3,
   "id": "312dd5b1",
   "metadata": {},
   "outputs": [
    {
     "data": {
      "text/html": [
       "<div>\n",
       "<style scoped>\n",
       "    .dataframe tbody tr th:only-of-type {\n",
       "        vertical-align: middle;\n",
       "    }\n",
       "\n",
       "    .dataframe tbody tr th {\n",
       "        vertical-align: top;\n",
       "    }\n",
       "\n",
       "    .dataframe thead th {\n",
       "        text-align: right;\n",
       "    }\n",
       "</style>\n",
       "<table border=\"1\" class=\"dataframe\">\n",
       "  <thead>\n",
       "    <tr style=\"text-align: right;\">\n",
       "      <th></th>\n",
       "      <th>filename</th>\n",
       "    </tr>\n",
       "  </thead>\n",
       "  <tbody>\n",
       "    <tr>\n",
       "      <th>0</th>\n",
       "      <td>MFP0642325.xls</td>\n",
       "    </tr>\n",
       "    <tr>\n",
       "      <th>1</th>\n",
       "      <td>MFP0642326.xls</td>\n",
       "    </tr>\n",
       "    <tr>\n",
       "      <th>2</th>\n",
       "      <td>MFP0642711.xls</td>\n",
       "    </tr>\n",
       "    <tr>\n",
       "      <th>3</th>\n",
       "      <td>MFP0643373.xls</td>\n",
       "    </tr>\n",
       "    <tr>\n",
       "      <th>4</th>\n",
       "      <td>MFP0643416.xls</td>\n",
       "    </tr>\n",
       "    <tr>\n",
       "      <th>...</th>\n",
       "      <td>...</td>\n",
       "    </tr>\n",
       "    <tr>\n",
       "      <th>360</th>\n",
       "      <td>MFP0923211.xls</td>\n",
       "    </tr>\n",
       "    <tr>\n",
       "      <th>361</th>\n",
       "      <td>MFP0923274.xls</td>\n",
       "    </tr>\n",
       "    <tr>\n",
       "      <th>362</th>\n",
       "      <td>MFP0923358.xls</td>\n",
       "    </tr>\n",
       "    <tr>\n",
       "      <th>363</th>\n",
       "      <td>MFP0923360.xls</td>\n",
       "    </tr>\n",
       "    <tr>\n",
       "      <th>364</th>\n",
       "      <td>MFP0923660.xls</td>\n",
       "    </tr>\n",
       "  </tbody>\n",
       "</table>\n",
       "<p>365 rows × 1 columns</p>\n",
       "</div>"
      ],
      "text/plain": [
       "           filename\n",
       "0    MFP0642325.xls\n",
       "1    MFP0642326.xls\n",
       "2    MFP0642711.xls\n",
       "3    MFP0643373.xls\n",
       "4    MFP0643416.xls\n",
       "..              ...\n",
       "360  MFP0923211.xls\n",
       "361  MFP0923274.xls\n",
       "362  MFP0923358.xls\n",
       "363  MFP0923360.xls\n",
       "364  MFP0923660.xls\n",
       "\n",
       "[365 rows x 1 columns]"
      ]
     },
     "execution_count": 3,
     "metadata": {},
     "output_type": "execute_result"
    }
   ],
   "source": [
    "df"
   ]
  },
  {
   "cell_type": "code",
   "execution_count": null,
   "id": "b92a457d",
   "metadata": {},
   "outputs": [],
   "source": [
    "#df1=pd.read_excel('D:/Tanmoy_Final/XLS2/encrypted.xlsx')"
   ]
  },
  {
   "cell_type": "code",
   "execution_count": 4,
   "id": "42cfbecd",
   "metadata": {},
   "outputs": [
    {
     "name": "stdout",
     "output_type": "stream",
     "text": [
      "['D:/Tanmoy_Final/XLS2/MFP0642325.xls', 'D:/Tanmoy_Final/XLS2/MFP0642326.xls', 'D:/Tanmoy_Final/XLS2/MFP0642711.xls', 'D:/Tanmoy_Final/XLS2/MFP0643373.xls', 'D:/Tanmoy_Final/XLS2/MFP0643416.xls', 'D:/Tanmoy_Final/XLS2/MFP0643637.xls', 'D:/Tanmoy_Final/XLS2/MFP0646240.xls', 'D:/Tanmoy_Final/XLS2/MFP0651420.xls', 'D:/Tanmoy_Final/XLS2/MFP0651427.xls', 'D:/Tanmoy_Final/XLS2/MFP0656788.xls', 'D:/Tanmoy_Final/XLS2/MFP0664397.xls', 'D:/Tanmoy_Final/XLS2/MFP0683307.xls', 'D:/Tanmoy_Final/XLS2/MFP0696227.xls', 'D:/Tanmoy_Final/XLS2/MFP0697494.xls', 'D:/Tanmoy_Final/XLS2/MFP0697500.xls', 'D:/Tanmoy_Final/XLS2/MFP0697501.xls', 'D:/Tanmoy_Final/XLS2/MFP0698048.xls', 'D:/Tanmoy_Final/XLS2/MFP0698561.xls', 'D:/Tanmoy_Final/XLS2/MFP0698923.xls', 'D:/Tanmoy_Final/XLS2/MFP0699699.xls', 'D:/Tanmoy_Final/XLS2/MFP0700280.xls', 'D:/Tanmoy_Final/XLS2/MFP0700490.xls', 'D:/Tanmoy_Final/XLS2/MFP0700491.xls', 'D:/Tanmoy_Final/XLS2/MFP0700880.xls', 'D:/Tanmoy_Final/XLS2/MFP0702157.xls', 'D:/Tanmoy_Final/XLS2/MFP0702158.xls', 'D:/Tanmoy_Final/XLS2/MFP0706728.xls', 'D:/Tanmoy_Final/XLS2/MFP0706878.xls', 'D:/Tanmoy_Final/XLS2/MFP0707004.xls', 'D:/Tanmoy_Final/XLS2/MFP0713173.xls', 'D:/Tanmoy_Final/XLS2/MFP0713174.xls', 'D:/Tanmoy_Final/XLS2/MFP0767940.xls', 'D:/Tanmoy_Final/XLS2/MFP0793416.xls', 'D:/Tanmoy_Final/XLS2/MFP0814530.xls', 'D:/Tanmoy_Final/XLS2/MFP0824755.xls', 'D:/Tanmoy_Final/XLS2/MFP0824933.xls', 'D:/Tanmoy_Final/XLS2/MFP0880326.XLS', 'D:/Tanmoy_Final/XLS2/MFP0882443.xls', 'D:/Tanmoy_Final/XLS2/MFP0882444.xls', 'D:/Tanmoy_Final/XLS2/MFP0882473.xls', 'D:/Tanmoy_Final/XLS2/MFP0882518.xls', 'D:/Tanmoy_Final/XLS2/MFP0883166.xls', 'D:/Tanmoy_Final/XLS2/MFP0883516.xls', 'D:/Tanmoy_Final/XLS2/MFP0883668.xls', 'D:/Tanmoy_Final/XLS2/MFP0891471.xls', 'D:/Tanmoy_Final/XLS2/MFP0891480.xls', 'D:/Tanmoy_Final/XLS2/MFP0891494.xls', 'D:/Tanmoy_Final/XLS2/MFP0891495.xls', 'D:/Tanmoy_Final/XLS2/MFP0891496.xls', 'D:/Tanmoy_Final/XLS2/MFP0891497.xls', 'D:/Tanmoy_Final/XLS2/MFP0892397.xls', 'D:/Tanmoy_Final/XLS2/MFP0892422.xls', 'D:/Tanmoy_Final/XLS2/MFP0892425.xls', 'D:/Tanmoy_Final/XLS2/MFP0892437.xls', 'D:/Tanmoy_Final/XLS2/MFP0892467.xls', 'D:/Tanmoy_Final/XLS2/MFP0892497.xls', 'D:/Tanmoy_Final/XLS2/MFP0892575.xls', 'D:/Tanmoy_Final/XLS2/MFP0892577.xls', 'D:/Tanmoy_Final/XLS2/MFP0892578.xls', 'D:/Tanmoy_Final/XLS2/MFP0892579.xls', 'D:/Tanmoy_Final/XLS2/MFP0892580.xls', 'D:/Tanmoy_Final/XLS2/MFP0892907.xls', 'D:/Tanmoy_Final/XLS2/MFP0892918.xls', 'D:/Tanmoy_Final/XLS2/MFP0892919.xls', 'D:/Tanmoy_Final/XLS2/MFP0893005.xls', 'D:/Tanmoy_Final/XLS2/MFP0893011.xls', 'D:/Tanmoy_Final/XLS2/MFP0893547.xls', 'D:/Tanmoy_Final/XLS2/MFP0893564.xls', 'D:/Tanmoy_Final/XLS2/MFP0893688.xls', 'D:/Tanmoy_Final/XLS2/MFP0893700.xls', 'D:/Tanmoy_Final/XLS2/MFP0893880.xls', 'D:/Tanmoy_Final/XLS2/MFP0893881.xls', 'D:/Tanmoy_Final/XLS2/MFP0894980.xls', 'D:/Tanmoy_Final/XLS2/MFP0894987.xls', 'D:/Tanmoy_Final/XLS2/MFP0895098.xls', 'D:/Tanmoy_Final/XLS2/MFP0895107.xls', 'D:/Tanmoy_Final/XLS2/MFP0895175.xls', 'D:/Tanmoy_Final/XLS2/MFP0895185.xls', 'D:/Tanmoy_Final/XLS2/MFP0895251.xls', 'D:/Tanmoy_Final/XLS2/MFP0895262.xls', 'D:/Tanmoy_Final/XLS2/MFP0895328.xls', 'D:/Tanmoy_Final/XLS2/MFP0895329.xls', 'D:/Tanmoy_Final/XLS2/MFP0895330.XLS', 'D:/Tanmoy_Final/XLS2/MFP0895331.xls', 'D:/Tanmoy_Final/XLS2/MFP0895420.xls', 'D:/Tanmoy_Final/XLS2/MFP0895468.xls', 'D:/Tanmoy_Final/XLS2/MFP0895515.xls', 'D:/Tanmoy_Final/XLS2/MFP0895516.xls', 'D:/Tanmoy_Final/XLS2/MFP0895624.xls', 'D:/Tanmoy_Final/XLS2/MFP0895659.xls', 'D:/Tanmoy_Final/XLS2/MFP0895776.xls', 'D:/Tanmoy_Final/XLS2/MFP0895805.xls', 'D:/Tanmoy_Final/XLS2/MFP0895907.xls', 'D:/Tanmoy_Final/XLS2/MFP0896128.xls', 'D:/Tanmoy_Final/XLS2/MFP0896189.xls', 'D:/Tanmoy_Final/XLS2/MFP0896204.xls', 'D:/Tanmoy_Final/XLS2/MFP0896398.xls', 'D:/Tanmoy_Final/XLS2/MFP0896466.xls', 'D:/Tanmoy_Final/XLS2/MFP0896535.xls', 'D:/Tanmoy_Final/XLS2/MFP0896598.xls', 'D:/Tanmoy_Final/XLS2/MFP0896666.xls', 'D:/Tanmoy_Final/XLS2/MFP0896730.xls', 'D:/Tanmoy_Final/XLS2/MFP0896798.xls', 'D:/Tanmoy_Final/XLS2/MFP0896902.xls', 'D:/Tanmoy_Final/XLS2/MFP0897003.xls', 'D:/Tanmoy_Final/XLS2/MFP0897052.xls', 'D:/Tanmoy_Final/XLS2/MFP0897564.xls', 'D:/Tanmoy_Final/XLS2/MFP0897574.xls', 'D:/Tanmoy_Final/XLS2/MFP0897659.xls', 'D:/Tanmoy_Final/XLS2/MFP0897668.xls', 'D:/Tanmoy_Final/XLS2/MFP0897738.xls', 'D:/Tanmoy_Final/XLS2/MFP0897747.xls', 'D:/Tanmoy_Final/XLS2/MFP0897823.xls', 'D:/Tanmoy_Final/XLS2/MFP0897833.xls', 'D:/Tanmoy_Final/XLS2/MFP0898084.xls', 'D:/Tanmoy_Final/XLS2/MFP0898086.xls', 'D:/Tanmoy_Final/XLS2/MFP0898088.xls', 'D:/Tanmoy_Final/XLS2/MFP0898102.xls', 'D:/Tanmoy_Final/XLS2/MFP0898104.xls', 'D:/Tanmoy_Final/XLS2/MFP0898105.xls', 'D:/Tanmoy_Final/XLS2/MFP0898106.xls', 'D:/Tanmoy_Final/XLS2/MFP0898107.xls', 'D:/Tanmoy_Final/XLS2/MFP0898108.xls', 'D:/Tanmoy_Final/XLS2/MFP0898176.xls', 'D:/Tanmoy_Final/XLS2/MFP0898195.xls', 'D:/Tanmoy_Final/XLS2/MFP0898196.xls', 'D:/Tanmoy_Final/XLS2/MFP0898859.xls', 'D:/Tanmoy_Final/XLS2/MFP0898934.xls', 'D:/Tanmoy_Final/XLS2/MFP0899103.xls', 'D:/Tanmoy_Final/XLS2/MFP0899584.xls', 'D:/Tanmoy_Final/XLS2/MFP0899585.xls', 'D:/Tanmoy_Final/XLS2/MFP0899630.xls', 'D:/Tanmoy_Final/XLS2/MFP0899735.xls', 'D:/Tanmoy_Final/XLS2/MFP0899872.xls', 'D:/Tanmoy_Final/XLS2/MFP0900003.xls', 'D:/Tanmoy_Final/XLS2/MFP0901162.xls', 'D:/Tanmoy_Final/XLS2/MFP0901163.xls', 'D:/Tanmoy_Final/XLS2/MFP0901164.xls', 'D:/Tanmoy_Final/XLS2/MFP0901165.xls', 'D:/Tanmoy_Final/XLS2/MFP0901183.xls', 'D:/Tanmoy_Final/XLS2/MFP0901200.xls', 'D:/Tanmoy_Final/XLS2/MFP0901965.xls', 'D:/Tanmoy_Final/XLS2/MFP0901995.xls', 'D:/Tanmoy_Final/XLS2/MFP0902059.xls', 'D:/Tanmoy_Final/XLS2/MFP0902113.xls', 'D:/Tanmoy_Final/XLS2/MFP0902195.xls', 'D:/Tanmoy_Final/XLS2/MFP0903434.xls', 'D:/Tanmoy_Final/XLS2/MFP0903436.xls', 'D:/Tanmoy_Final/XLS2/MFP0903437.xls', 'D:/Tanmoy_Final/XLS2/MFP0903440.xls', 'D:/Tanmoy_Final/XLS2/MFP0903740.xls', 'D:/Tanmoy_Final/XLS2/MFP0903743.xls', 'D:/Tanmoy_Final/XLS2/MFP0903757.xls', 'D:/Tanmoy_Final/XLS2/MFP0903782.xls', 'D:/Tanmoy_Final/XLS2/MFP0903783.xls', 'D:/Tanmoy_Final/XLS2/MFP0903784.xls', 'D:/Tanmoy_Final/XLS2/MFP0903785.xls', 'D:/Tanmoy_Final/XLS2/MFP0904040.xls', 'D:/Tanmoy_Final/XLS2/MFP0904212.xls', 'D:/Tanmoy_Final/XLS2/MFP0904245.xls', 'D:/Tanmoy_Final/XLS2/MFP0904246.xls', 'D:/Tanmoy_Final/XLS2/MFP0904323.xls', 'D:/Tanmoy_Final/XLS2/MFP0904324.xls', 'D:/Tanmoy_Final/XLS2/MFP0904479.xls', 'D:/Tanmoy_Final/XLS2/MFP0904507.xls', 'D:/Tanmoy_Final/XLS2/MFP0904571.xls', 'D:/Tanmoy_Final/XLS2/MFP0904615.xls', 'D:/Tanmoy_Final/XLS2/MFP0904677.xls', 'D:/Tanmoy_Final/XLS2/MFP0904703.xls', 'D:/Tanmoy_Final/XLS2/MFP0904752.xls', 'D:/Tanmoy_Final/XLS2/MFP0904797.xls', 'D:/Tanmoy_Final/XLS2/MFP0904940.xls', 'D:/Tanmoy_Final/XLS2/MFP0904958.xls', 'D:/Tanmoy_Final/XLS2/MFP0904961.xls', 'D:/Tanmoy_Final/XLS2/MFP0904974.xls', 'D:/Tanmoy_Final/XLS2/MFP0904975.xls', 'D:/Tanmoy_Final/XLS2/MFP0905055.xls', 'D:/Tanmoy_Final/XLS2/MFP0905091.xls', 'D:/Tanmoy_Final/XLS2/MFP0905367.xls', 'D:/Tanmoy_Final/XLS2/MFP0905368.xls', 'D:/Tanmoy_Final/XLS2/MFP0905566.xls', 'D:/Tanmoy_Final/XLS2/MFP0905586.XLS', 'D:/Tanmoy_Final/XLS2/MFP0906129.xls', 'D:/Tanmoy_Final/XLS2/MFP0906134.xls', 'D:/Tanmoy_Final/XLS2/MFP0906580.xls', 'D:/Tanmoy_Final/XLS2/MFP0906610.xls', 'D:/Tanmoy_Final/XLS2/MFP0906744.xls', 'D:/Tanmoy_Final/XLS2/MFP0906778.xls', 'D:/Tanmoy_Final/XLS2/MFP0906878.xls', 'D:/Tanmoy_Final/XLS2/MFP0906907.xls', 'D:/Tanmoy_Final/XLS2/MFP0906975.xls', 'D:/Tanmoy_Final/XLS2/MFP0907008.xls', 'D:/Tanmoy_Final/XLS2/MFP0907968.xls', 'D:/Tanmoy_Final/XLS2/MFP0907977.xls', 'D:/Tanmoy_Final/XLS2/MFP0908071.xls', 'D:/Tanmoy_Final/XLS2/MFP0908074.xls', 'D:/Tanmoy_Final/XLS2/MFP0908076.xls', 'D:/Tanmoy_Final/XLS2/MFP0908078.xls', 'D:/Tanmoy_Final/XLS2/MFP0908080.xls', 'D:/Tanmoy_Final/XLS2/MFP0908082.xls', 'D:/Tanmoy_Final/XLS2/MFP0908084.xls', 'D:/Tanmoy_Final/XLS2/MFP0908086.xls', 'D:/Tanmoy_Final/XLS2/MFP0908088.xls', 'D:/Tanmoy_Final/XLS2/MFP0908089.xls', 'D:/Tanmoy_Final/XLS2/MFP0908090.xls', 'D:/Tanmoy_Final/XLS2/MFP0908091.xls', 'D:/Tanmoy_Final/XLS2/MFP0908093.xls', 'D:/Tanmoy_Final/XLS2/MFP0908095.xls', 'D:/Tanmoy_Final/XLS2/MFP0908096.XLS', 'D:/Tanmoy_Final/XLS2/MFP0908097.XLS', 'D:/Tanmoy_Final/XLS2/MFP0908480.xls', 'D:/Tanmoy_Final/XLS2/MFP0908660.xls', 'D:/Tanmoy_Final/XLS2/MFP0908661.xls', 'D:/Tanmoy_Final/XLS2/MFP0908777.xls', 'D:/Tanmoy_Final/XLS2/MFP0908873.xls', 'D:/Tanmoy_Final/XLS2/MFP0909058.xls', 'D:/Tanmoy_Final/XLS2/MFP0909060.xls', 'D:/Tanmoy_Final/XLS2/MFP0909225.xls', 'D:/Tanmoy_Final/XLS2/MFP0909228.xls', 'D:/Tanmoy_Final/XLS2/MFP0909526.xls', 'D:/Tanmoy_Final/XLS2/MFP0909557.xls', 'D:/Tanmoy_Final/XLS2/MFP0909662.xls', 'D:/Tanmoy_Final/XLS2/MFP0909704.xls', 'D:/Tanmoy_Final/XLS2/MFP0909705.xls', 'D:/Tanmoy_Final/XLS2/MFP0909807.xls', 'D:/Tanmoy_Final/XLS2/MFP0909817.xls', 'D:/Tanmoy_Final/XLS2/MFP0909941.xls', 'D:/Tanmoy_Final/XLS2/MFP0909956.xls', 'D:/Tanmoy_Final/XLS2/MFP0910605.xls', 'D:/Tanmoy_Final/XLS2/MFP0910607.xls', 'D:/Tanmoy_Final/XLS2/MFP0910612.xls', 'D:/Tanmoy_Final/XLS2/MFP0910614.xls', 'D:/Tanmoy_Final/XLS2/MFP0910618.xls', 'D:/Tanmoy_Final/XLS2/MFP0910674.xls', 'D:/Tanmoy_Final/XLS2/MFP0910676.xls', 'D:/Tanmoy_Final/XLS2/MFP0910678.xls', 'D:/Tanmoy_Final/XLS2/MFP0910680.xls', 'D:/Tanmoy_Final/XLS2/MFP0910682.xls', 'D:/Tanmoy_Final/XLS2/MFP0910684.xls', 'D:/Tanmoy_Final/XLS2/MFP0910686.xls', 'D:/Tanmoy_Final/XLS2/MFP0910688.xls', 'D:/Tanmoy_Final/XLS2/MFP0910690.xls', 'D:/Tanmoy_Final/XLS2/MFP0910692.xls', 'D:/Tanmoy_Final/XLS2/MFP0910695.xls', 'D:/Tanmoy_Final/XLS2/MFP0910697.xls', 'D:/Tanmoy_Final/XLS2/MFP0910701.xls', 'D:/Tanmoy_Final/XLS2/MFP0910703.xls', 'D:/Tanmoy_Final/XLS2/MFP0911139.xls', 'D:/Tanmoy_Final/XLS2/MFP0911141.xls', 'D:/Tanmoy_Final/XLS2/MFP0911143.xls', 'D:/Tanmoy_Final/XLS2/MFP0911145.xls', 'D:/Tanmoy_Final/XLS2/MFP0911147.xls', 'D:/Tanmoy_Final/XLS2/MFP0911150.xls', 'D:/Tanmoy_Final/XLS2/MFP0911151.xls', 'D:/Tanmoy_Final/XLS2/MFP0911186.xls', 'D:/Tanmoy_Final/XLS2/MFP0911234.xls', 'D:/Tanmoy_Final/XLS2/MFP0911273.xls', 'D:/Tanmoy_Final/XLS2/MFP0911325.xls', 'D:/Tanmoy_Final/XLS2/MFP0911333.xls', 'D:/Tanmoy_Final/XLS2/MFP0912219.xls', 'D:/Tanmoy_Final/XLS2/MFP0912222.xls', 'D:/Tanmoy_Final/XLS2/MFP0913187.xls', 'D:/Tanmoy_Final/XLS2/MFP0913188.xls', 'D:/Tanmoy_Final/XLS2/MFP0913189.xls', 'D:/Tanmoy_Final/XLS2/MFP0913468.xls', 'D:/Tanmoy_Final/XLS2/MFP0913477.xls', 'D:/Tanmoy_Final/XLS2/MFP0913525.xls', 'D:/Tanmoy_Final/XLS2/MFP0913586.xls', 'D:/Tanmoy_Final/XLS2/MFP0913609.xls', 'D:/Tanmoy_Final/XLS2/MFP0913662.xls', 'D:/Tanmoy_Final/XLS2/MFP0913686.xls', 'D:/Tanmoy_Final/XLS2/MFP0913711.xls', 'D:/Tanmoy_Final/XLS2/MFP0914483.xls', 'D:/Tanmoy_Final/XLS2/MFP0914484.xls', 'D:/Tanmoy_Final/XLS2/MFP0914485.xls', 'D:/Tanmoy_Final/XLS2/MFP0914486.xls', 'D:/Tanmoy_Final/XLS2/MFP0914492.xls', 'D:/Tanmoy_Final/XLS2/MFP0914728.xls', 'D:/Tanmoy_Final/XLS2/MFP0914739.xls', 'D:/Tanmoy_Final/XLS2/MFP0915352.xls', 'D:/Tanmoy_Final/XLS2/MFP0915422.xls', 'D:/Tanmoy_Final/XLS2/MFP0915473.xls', 'D:/Tanmoy_Final/XLS2/MFP0916058.xls', 'D:/Tanmoy_Final/XLS2/MFP0916063.xls', 'D:/Tanmoy_Final/XLS2/MFP0916072.xls', 'D:/Tanmoy_Final/XLS2/MFP0916094.xls', 'D:/Tanmoy_Final/XLS2/MFP0916105.xls', 'D:/Tanmoy_Final/XLS2/MFP0916172.XLS', 'D:/Tanmoy_Final/XLS2/MFP0916173.XLS', 'D:/Tanmoy_Final/XLS2/MFP0916174.xls', 'D:/Tanmoy_Final/XLS2/MFP0916175.XLS', 'D:/Tanmoy_Final/XLS2/MFP0916235.xls', 'D:/Tanmoy_Final/XLS2/MFP0916308.xls', 'D:/Tanmoy_Final/XLS2/MFP0916325.xls', 'D:/Tanmoy_Final/XLS2/MFP0916379.xls', 'D:/Tanmoy_Final/XLS2/MFP0916380.xls', 'D:/Tanmoy_Final/XLS2/MFP0916475.xls', 'D:/Tanmoy_Final/XLS2/MFP0916488.xls', 'D:/Tanmoy_Final/XLS2/MFP0916501.xls', 'D:/Tanmoy_Final/XLS2/MFP0916760.xls', 'D:/Tanmoy_Final/XLS2/MFP0916805.xls', 'D:/Tanmoy_Final/XLS2/MFP0916815.xls', 'D:/Tanmoy_Final/XLS2/MFP0916827.xls', 'D:/Tanmoy_Final/XLS2/MFP0916895.xls', 'D:/Tanmoy_Final/XLS2/MFP0916906.xls', 'D:/Tanmoy_Final/XLS2/MFP0917263.xls', 'D:/Tanmoy_Final/XLS2/MFP0917334.xls', 'D:/Tanmoy_Final/XLS2/MFP0917346.xls', 'D:/Tanmoy_Final/XLS2/MFP0917394.xls', 'D:/Tanmoy_Final/XLS2/MFP0917420.xls', 'D:/Tanmoy_Final/XLS2/MFP0917676.xls', 'D:/Tanmoy_Final/XLS2/MFP0917678.xls', 'D:/Tanmoy_Final/XLS2/MFP0917679.xls', 'D:/Tanmoy_Final/XLS2/MFP0917682.xls', 'D:/Tanmoy_Final/XLS2/MFP0917694.xls', 'D:/Tanmoy_Final/XLS2/MFP0917696.xls', 'D:/Tanmoy_Final/XLS2/MFP0917746.xls', 'D:/Tanmoy_Final/XLS2/MFP0917764.xls', 'D:/Tanmoy_Final/XLS2/MFP0917765.XLS', 'D:/Tanmoy_Final/XLS2/MFP0917766.xls', 'D:/Tanmoy_Final/XLS2/MFP0917767.xls', 'D:/Tanmoy_Final/XLS2/MFP0917859.xls', 'D:/Tanmoy_Final/XLS2/MFP0917890.xls', 'D:/Tanmoy_Final/XLS2/MFP0918415.xls', 'D:/Tanmoy_Final/XLS2/MFP0918439.xls', 'D:/Tanmoy_Final/XLS2/MFP0918478.xls', 'D:/Tanmoy_Final/XLS2/MFP0918500.xls', 'D:/Tanmoy_Final/XLS2/MFP0918686.xls', 'D:/Tanmoy_Final/XLS2/MFP0918687.xls', 'D:/Tanmoy_Final/XLS2/MFP0918697.xls', 'D:/Tanmoy_Final/XLS2/MFP0918698.xls', 'D:/Tanmoy_Final/XLS2/MFP0918699.xls', 'D:/Tanmoy_Final/XLS2/MFP0918701.xls', 'D:/Tanmoy_Final/XLS2/MFP0919036.xls', 'D:/Tanmoy_Final/XLS2/MFP0919049.xls', 'D:/Tanmoy_Final/XLS2/MFP0919071.xls', 'D:/Tanmoy_Final/XLS2/MFP0919072.xls', 'D:/Tanmoy_Final/XLS2/MFP0919079.xls', 'D:/Tanmoy_Final/XLS2/MFP0919086.xls', 'D:/Tanmoy_Final/XLS2/MFP0919110.xls', 'D:/Tanmoy_Final/XLS2/MFP0919158.xls', 'D:/Tanmoy_Final/XLS2/MFP0919222.xls', 'D:/Tanmoy_Final/XLS2/MFP0919474.xls', 'D:/Tanmoy_Final/XLS2/MFP0919532.xls', 'D:/Tanmoy_Final/XLS2/MFP0919533.xls', 'D:/Tanmoy_Final/XLS2/MFP0919561.xls', 'D:/Tanmoy_Final/XLS2/MFP0919571.xls', 'D:/Tanmoy_Final/XLS2/MFP0919633.xls', 'D:/Tanmoy_Final/XLS2/MFP0919634.xls', 'D:/Tanmoy_Final/XLS2/MFP0919719.xls', 'D:/Tanmoy_Final/XLS2/MFP0919920.xls', 'D:/Tanmoy_Final/XLS2/MFP0919991.xls', 'D:/Tanmoy_Final/XLS2/MFP0920007.xls', 'D:/Tanmoy_Final/XLS2/MFP0920019.xls', 'D:/Tanmoy_Final/XLS2/MFP0920021.xls', 'D:/Tanmoy_Final/XLS2/MFP0921494.xls', 'D:/Tanmoy_Final/XLS2/MFP0921882.xls', 'D:/Tanmoy_Final/XLS2/MFP0921915.xls', 'D:/Tanmoy_Final/XLS2/MFP0921979.xls', 'D:/Tanmoy_Final/XLS2/MFP0922001.xls', 'D:/Tanmoy_Final/XLS2/MFP0922047.xls', 'D:/Tanmoy_Final/XLS2/MFP0922459.xls', 'D:/Tanmoy_Final/XLS2/MFP0922460.xls', 'D:/Tanmoy_Final/XLS2/MFP0922461.xls', 'D:/Tanmoy_Final/XLS2/MFP0922462.xls', 'D:/Tanmoy_Final/XLS2/MFP0923108.xls', 'D:/Tanmoy_Final/XLS2/MFP0923116.xls', 'D:/Tanmoy_Final/XLS2/MFP0923129.xls', 'D:/Tanmoy_Final/XLS2/MFP0923190.xls', 'D:/Tanmoy_Final/XLS2/MFP0923211.xls', 'D:/Tanmoy_Final/XLS2/MFP0923274.xls', 'D:/Tanmoy_Final/XLS2/MFP0923358.xls', 'D:/Tanmoy_Final/XLS2/MFP0923360.xls', 'D:/Tanmoy_Final/XLS2/MFP0923660.xls', 'D:/Tanmoy_Final/XLS2/MFP0923751.xls', 'D:/Tanmoy_Final/XLS2/MFP0923778.xls', 'D:/Tanmoy_Final/XLS2/MFP0923780.xls', 'D:/Tanmoy_Final/XLS2/MFP0923839.XLS', 'D:/Tanmoy_Final/XLS2/MFP0924083.XLS', 'D:/Tanmoy_Final/XLS2/MFP0924097.XLS', 'D:/Tanmoy_Final/XLS2/MFP0924207.XLS', 'D:/Tanmoy_Final/XLS2/MFP0924407.xls', 'D:/Tanmoy_Final/XLS2/MFP0924424.XLS', 'D:/Tanmoy_Final/XLS2/MFP0924430.xls', 'D:/Tanmoy_Final/XLS2/MFP0924890.xls', 'D:/Tanmoy_Final/XLS2/MFP0925187.xls', 'D:/Tanmoy_Final/XLS2/MFP0925188.xls', 'D:/Tanmoy_Final/XLS2/MFP0925235.xls', 'D:/Tanmoy_Final/XLS2/MFP0925241.xls', 'D:/Tanmoy_Final/XLS2/MFP0925304.xls', 'D:/Tanmoy_Final/XLS2/MFP0925311.xls', 'D:/Tanmoy_Final/XLS2/MFP0925363.xls', 'D:/Tanmoy_Final/XLS2/MFP0925376.xls', 'D:/Tanmoy_Final/XLS2/MFP0925432.xls', 'D:/Tanmoy_Final/XLS2/MFP0925443.xls', 'D:/Tanmoy_Final/XLS2/MFP0925951.xls', 'D:/Tanmoy_Final/XLS2/MFP0925952.xls', 'D:/Tanmoy_Final/XLS2/MFP0925954.xls', 'D:/Tanmoy_Final/XLS2/MFP0925970.xls', 'D:/Tanmoy_Final/XLS2/MFP0925977.xls', 'D:/Tanmoy_Final/XLS2/MFP0925980.xls', 'D:/Tanmoy_Final/XLS2/MFP0926790.xls', 'D:/Tanmoy_Final/XLS2/MFP0928527.xls', 'D:/Tanmoy_Final/XLS2/MFP0928859.xls', 'D:/Tanmoy_Final/XLS2/MFP0928878.xls', 'D:/Tanmoy_Final/XLS2/MFP0929026.xls', 'D:/Tanmoy_Final/XLS2/MFP0929251.xls', 'D:/Tanmoy_Final/XLS2/MFP0929265.xls', 'D:/Tanmoy_Final/XLS2/MFP0929266.xls', 'D:/Tanmoy_Final/XLS2/MFP0929295.xls', 'D:/Tanmoy_Final/XLS2/MFP0930784.xls', 'D:/Tanmoy_Final/XLS2/MFP0930793.xls', 'D:/Tanmoy_Final/XLS2/MFP0930849.xls', 'D:/Tanmoy_Final/XLS2/MFP0930898.xls', 'D:/Tanmoy_Final/XLS2/MFP0930941.xls', 'D:/Tanmoy_Final/XLS2/MFP0931359.xls', 'D:/Tanmoy_Final/XLS2/MFP0931360.xls', 'D:/Tanmoy_Final/XLS2/MFP0931361.xls', 'D:/Tanmoy_Final/XLS2/MFP0931362.xls', 'D:/Tanmoy_Final/XLS2/MFP0932549.xls', 'D:/Tanmoy_Final/XLS2/MFP0932565.xls', 'D:/Tanmoy_Final/XLS2/MFP0932595.xls', 'D:/Tanmoy_Final/XLS2/MFP0932600.xls', 'D:/Tanmoy_Final/XLS2/MFP0932928.xls', 'D:/Tanmoy_Final/XLS2/MFP0932973.xls', 'D:/Tanmoy_Final/XLS2/MFP0933004.xls', 'D:/Tanmoy_Final/XLS2/MFP0933044.xls', 'D:/Tanmoy_Final/XLS2/MFP0933212.xls', 'D:/Tanmoy_Final/XLS2/MFP0933214.xls', 'D:/Tanmoy_Final/XLS2/MFP0933215.xls', 'D:/Tanmoy_Final/XLS2/MFP0933216.xls', 'D:/Tanmoy_Final/XLS2/MFP0933218.xls', 'D:/Tanmoy_Final/XLS2/MFP0933232.xls', 'D:/Tanmoy_Final/XLS2/MFP0933268.XLS', 'D:/Tanmoy_Final/XLS2/MFP0933306.xls', 'D:/Tanmoy_Final/XLS2/MFP0933307.xls', 'D:/Tanmoy_Final/XLS2/MFP0933351.xls', 'D:/Tanmoy_Final/XLS2/MFP0933376.xls', 'D:/Tanmoy_Final/XLS2/MFP0933615.xls', 'D:/Tanmoy_Final/XLS2/MFP0933635.xls', 'D:/Tanmoy_Final/XLS2/MFP0933692.xls', 'D:/Tanmoy_Final/XLS2/MFP0933720.xls', 'D:/Tanmoy_Final/XLS2/MFP0933777.xls', 'D:/Tanmoy_Final/XLS2/MFP0933840.xls', 'D:/Tanmoy_Final/XLS2/MFP0933854.xls', 'D:/Tanmoy_Final/XLS2/MFP0933884.xls', 'D:/Tanmoy_Final/XLS2/MFP0933892.xls', 'D:/Tanmoy_Final/XLS2/MFP0933914.xls', 'D:/Tanmoy_Final/XLS2/MFP0933917.xls', 'D:/Tanmoy_Final/XLS2/MFP0934075.xls', 'D:/Tanmoy_Final/XLS2/MFP0934085.xls', 'D:/Tanmoy_Final/XLS2/MFP0934112.xls', 'D:/Tanmoy_Final/XLS2/MFP0934345.xls', 'D:/Tanmoy_Final/XLS2/MFP0934360.xls', 'D:/Tanmoy_Final/XLS2/MFP0934366.xls', 'D:/Tanmoy_Final/XLS2/MFP0934387.xls', 'D:/Tanmoy_Final/XLS2/MFP0934408.xls', 'D:/Tanmoy_Final/XLS2/MFP0934410.xls', 'D:/Tanmoy_Final/XLS2/MFP0934440.xls', 'D:/Tanmoy_Final/XLS2/MFP0934474.xls', 'D:/Tanmoy_Final/XLS2/MFP0934980.xls', 'D:/Tanmoy_Final/XLS2/MFP0934981.xls', 'D:/Tanmoy_Final/XLS2/MFP0934982.xls', 'D:/Tanmoy_Final/XLS2/MFP0934983.xls', 'D:/Tanmoy_Final/XLS2/MFP0934984.xls', 'D:/Tanmoy_Final/XLS2/MFP0934987.xls', 'D:/Tanmoy_Final/XLS2/MFP0934988.xls', 'D:/Tanmoy_Final/XLS2/MFP0934989.xls', 'D:/Tanmoy_Final/XLS2/MFP0934990.xls', 'D:/Tanmoy_Final/XLS2/MFP0934991.xls', 'D:/Tanmoy_Final/XLS2/MFP0934992.xls', 'D:/Tanmoy_Final/XLS2/MFP0934993.xls', 'D:/Tanmoy_Final/XLS2/MFP0935205.xls', 'D:/Tanmoy_Final/XLS2/MFP0935238.xls', 'D:/Tanmoy_Final/XLS2/MFP0935451.xls', 'D:/Tanmoy_Final/XLS2/MFP0935470.xls', 'D:/Tanmoy_Final/XLS2/MFP0935562.xls', 'D:/Tanmoy_Final/XLS2/MFP0935596.XLS', 'D:/Tanmoy_Final/XLS2/MFP0935635.XLS', 'D:/Tanmoy_Final/XLS2/MFP0935911.xls', 'D:/Tanmoy_Final/XLS2/MFP0935925.xls', 'D:/Tanmoy_Final/XLS2/MFP0936068.xls', 'D:/Tanmoy_Final/XLS2/MFP0936069.xls', 'D:/Tanmoy_Final/XLS2/MFP0936071.xls', 'D:/Tanmoy_Final/XLS2/MFP0936073.xls', 'D:/Tanmoy_Final/XLS2/MFP0936074.xls', 'D:/Tanmoy_Final/XLS2/MFP0936086.xls', 'D:/Tanmoy_Final/XLS2/MFP0936089.xls', 'D:/Tanmoy_Final/XLS2/MFP0936333.xls', 'D:/Tanmoy_Final/XLS2/MFP0936341.xls', 'D:/Tanmoy_Final/XLS2/MFP0936403.xls', 'D:/Tanmoy_Final/XLS2/MFP0936410.xls', 'D:/Tanmoy_Final/XLS2/MFP0936411.xls', 'D:/Tanmoy_Final/XLS2/MFP0936424.xls', 'D:/Tanmoy_Final/XLS2/MFP0936428.xls', 'D:/Tanmoy_Final/XLS2/MFP0936434.xls', 'D:/Tanmoy_Final/XLS2/MFP0936435.xls', 'D:/Tanmoy_Final/XLS2/MFP0936436.xls', 'D:/Tanmoy_Final/XLS2/MFP0936445.xls', 'D:/Tanmoy_Final/XLS2/MFP0936447.xls', 'D:/Tanmoy_Final/XLS2/MFP0936459.xls', 'D:/Tanmoy_Final/XLS2/MFP0936462.xls', 'D:/Tanmoy_Final/XLS2/MFP0936514.xls', 'D:/Tanmoy_Final/XLS2/MFP0936517.xls', 'D:/Tanmoy_Final/XLS2/MFP0936559.xls', 'D:/Tanmoy_Final/XLS2/MFP0936563.xls', 'D:/Tanmoy_Final/XLS2/MFP0936821.xls', 'D:/Tanmoy_Final/XLS2/MFP0936834.xls', 'D:/Tanmoy_Final/XLS2/MFP0936840.xls', 'D:/Tanmoy_Final/XLS2/MFP0936870.xls', 'D:/Tanmoy_Final/XLS2/MFP0936891.xls', 'D:/Tanmoy_Final/XLS2/MFP0936902.xls', 'D:/Tanmoy_Final/XLS2/MFP0936938.xls', 'D:/Tanmoy_Final/XLS2/MFP0936962.xls', 'D:/Tanmoy_Final/XLS2/MFP0936980.xls', 'D:/Tanmoy_Final/XLS2/MFP0936987.xls', 'D:/Tanmoy_Final/XLS2/MFP0937004.xls', 'D:/Tanmoy_Final/XLS2/MFP0937017.xls', 'D:/Tanmoy_Final/XLS2/MFP0937019.xls', 'D:/Tanmoy_Final/XLS2/MFP0937021.xls', 'D:/Tanmoy_Final/XLS2/MFP0937023.xls', 'D:/Tanmoy_Final/XLS2/MFP0937025.xls', 'D:/Tanmoy_Final/XLS2/MFP0937027.xls', 'D:/Tanmoy_Final/XLS2/MFP0937029.xls', 'D:/Tanmoy_Final/XLS2/MFP0937030.xls', 'D:/Tanmoy_Final/XLS2/MFP0937031.xls', 'D:/Tanmoy_Final/XLS2/MFP0937032.xls', 'D:/Tanmoy_Final/XLS2/MFP0937033.xls', 'D:/Tanmoy_Final/XLS2/MFP0937034.xls', 'D:/Tanmoy_Final/XLS2/MFP0937346.xls', 'D:/Tanmoy_Final/XLS2/MFP0937411.xls', 'D:/Tanmoy_Final/XLS2/MFP0937451.xls', 'D:/Tanmoy_Final/XLS2/MFP0937522.xls', 'D:/Tanmoy_Final/XLS2/MFP0937569.xls', 'D:/Tanmoy_Final/XLS2/MFP0937585.xls', 'D:/Tanmoy_Final/XLS2/MFP0938039.xls', 'D:/Tanmoy_Final/XLS2/MFP0938121.xls', 'D:/Tanmoy_Final/XLS2/MFP0938695.xls', 'D:/Tanmoy_Final/XLS2/MFP0938767.xls', 'D:/Tanmoy_Final/XLS2/MFP0939179.xls', 'D:/Tanmoy_Final/XLS2/MFP0939260.xls', 'D:/Tanmoy_Final/XLS2/MFP0939471.xls', 'D:/Tanmoy_Final/XLS2/MFP0939547.xls', 'D:/Tanmoy_Final/XLS2/MFP0939758.xls', 'D:/Tanmoy_Final/XLS2/MFP0939834.xls', 'D:/Tanmoy_Final/XLS2/MFP0940044.xls', 'D:/Tanmoy_Final/XLS2/MFP0940124.xls', 'D:/Tanmoy_Final/XLS2/MFP0940538.xls', 'D:/Tanmoy_Final/XLS2/MFP0940615.xls', 'D:/Tanmoy_Final/XLS2/MFP0941029.xls', 'D:/Tanmoy_Final/XLS2/MFP0941126.xls', 'D:/Tanmoy_Final/XLS2/MFP0941486.xls', 'D:/Tanmoy_Final/XLS2/MFP0941518.XLS', 'D:/Tanmoy_Final/XLS2/MFP0941519.XLS', 'D:/Tanmoy_Final/XLS2/MFP0941626.xls', 'D:/Tanmoy_Final/XLS2/MFP0941629.xls', 'D:/Tanmoy_Final/XLS2/MFP0941640.xls', 'D:/Tanmoy_Final/XLS2/MFP0941742.xls', 'D:/Tanmoy_Final/XLS2/MFP0941777.xls', 'D:/Tanmoy_Final/XLS2/MFP0941796.xls', 'D:/Tanmoy_Final/XLS2/MFP0941809.xls', 'D:/Tanmoy_Final/XLS2/MFP0941828.xls', 'D:/Tanmoy_Final/XLS2/MFP0942032.xls', 'D:/Tanmoy_Final/XLS2/MFP0942055.xls', 'D:/Tanmoy_Final/XLS2/MFP0942083.xls', 'D:/Tanmoy_Final/XLS2/MFP0942108.xls', 'D:/Tanmoy_Final/XLS2/MFP0942125.xls', 'D:/Tanmoy_Final/XLS2/MFP0942155.xls', 'D:/Tanmoy_Final/XLS2/MFP0942164.xls', 'D:/Tanmoy_Final/XLS2/MFP0942314.xls', 'D:/Tanmoy_Final/XLS2/MFP0942523.xls', 'D:/Tanmoy_Final/XLS2/MFP0942550.xls', 'D:/Tanmoy_Final/XLS2/MFP0942551.xls', 'D:/Tanmoy_Final/XLS2/MFP0942552.xls', 'D:/Tanmoy_Final/XLS2/MFP0942555.xls', 'D:/Tanmoy_Final/XLS2/MFP0942634.XLS', 'D:/Tanmoy_Final/XLS2/MFP0942946.xls', 'D:/Tanmoy_Final/XLS2/MFP0943155.xls', 'D:/Tanmoy_Final/XLS2/MFP0943173.xls', 'D:/Tanmoy_Final/XLS2/MFP0943201.xls', 'D:/Tanmoy_Final/XLS2/MFP0943202.xls', 'D:/Tanmoy_Final/XLS2/MFP0943203.xls', 'D:/Tanmoy_Final/XLS2/MFP0943204.xls', 'D:/Tanmoy_Final/XLS2/MFP0943205.xls', 'D:/Tanmoy_Final/XLS2/MFP0943206.xls', 'D:/Tanmoy_Final/XLS2/MFP0943207.xls', 'D:/Tanmoy_Final/XLS2/MFP0943512.xls', 'D:/Tanmoy_Final/XLS2/MFP0943598.xls', 'D:/Tanmoy_Final/XLS2/MFP0944129.xls', 'D:/Tanmoy_Final/XLS2/MFP0944307.xls', 'D:/Tanmoy_Final/XLS2/MFP0944494.xls', 'D:/Tanmoy_Final/XLS2/MFP0944601.xls', 'D:/Tanmoy_Final/XLS2/MFP0944621.xls', 'D:/Tanmoy_Final/XLS2/MFP0944623.xls', 'D:/Tanmoy_Final/XLS2/MFP0944662.xls', 'D:/Tanmoy_Final/XLS2/MFP0944671.xls', 'D:/Tanmoy_Final/XLS2/MFP0944917.xls', 'D:/Tanmoy_Final/XLS2/MFP0944919.xls', 'D:/Tanmoy_Final/XLS2/MFP0944924.xls', 'D:/Tanmoy_Final/XLS2/MFP0944926.xls', 'D:/Tanmoy_Final/XLS2/MFP0944940.xls', 'D:/Tanmoy_Final/XLS2/MFP0944942.xls', 'D:/Tanmoy_Final/XLS2/MFP0944945.xls', 'D:/Tanmoy_Final/XLS2/MFP0944946.xls', 'D:/Tanmoy_Final/XLS2/MFP0944947.xls', 'D:/Tanmoy_Final/XLS2/MFP0944948.xls', 'D:/Tanmoy_Final/XLS2/MFP0944949.xls', 'D:/Tanmoy_Final/XLS2/MFP0944950.xls', 'D:/Tanmoy_Final/XLS2/MFP0944951.xls', 'D:/Tanmoy_Final/XLS2/MFP0944952.xls', 'D:/Tanmoy_Final/XLS2/MFP0944953.xls', 'D:/Tanmoy_Final/XLS2/MFP0944964.xls', 'D:/Tanmoy_Final/XLS2/MFP0944977.xls', 'D:/Tanmoy_Final/XLS2/MFP0945176.xls', 'D:/Tanmoy_Final/XLS2/MFP0945509.xls', 'D:/Tanmoy_Final/XLS2/MFP0945580.xls', 'D:/Tanmoy_Final/XLS2/MFP0945674.xls', 'D:/Tanmoy_Final/XLS2/MFP0945717.xls', 'D:/Tanmoy_Final/XLS2/MFP0946553.xls', 'D:/Tanmoy_Final/XLS2/MFP0946617.xls', 'D:/Tanmoy_Final/XLS2/MFP0946620.xls', 'D:/Tanmoy_Final/XLS2/MFP0946626.xls', 'D:/Tanmoy_Final/XLS2/MFP0946642.xls', 'D:/Tanmoy_Final/XLS2/MFP0946687.xls', 'D:/Tanmoy_Final/XLS2/MFP0946741.xls', 'D:/Tanmoy_Final/XLS2/MFP0946764.xls', 'D:/Tanmoy_Final/XLS2/MFP0947215.xls', 'D:/Tanmoy_Final/XLS2/MFP0947217.xls', 'D:/Tanmoy_Final/XLS2/MFP0947257.xls', 'D:/Tanmoy_Final/XLS2/MFP0947343.xls', 'D:/Tanmoy_Final/XLS2/MFP0947345.xls', 'D:/Tanmoy_Final/XLS2/MFP0947371.xls', 'D:/Tanmoy_Final/XLS2/MFP0947402.xls', 'D:/Tanmoy_Final/XLS2/MFP0947403.xls', 'D:/Tanmoy_Final/XLS2/MFP0947415.xls', 'D:/Tanmoy_Final/XLS2/MFP0947448.xls', 'D:/Tanmoy_Final/XLS2/MFP0947449.xls', 'D:/Tanmoy_Final/XLS2/MFP0947461.xls', 'D:/Tanmoy_Final/XLS2/MFP0947499.xls', 'D:/Tanmoy_Final/XLS2/MFP0947501.xls', 'D:/Tanmoy_Final/XLS2/MFP0947518.xls', 'D:/Tanmoy_Final/XLS2/MFP0947606.xls', 'D:/Tanmoy_Final/XLS2/MFP0947607.xls', 'D:/Tanmoy_Final/XLS2/MFP0947608.xls', 'D:/Tanmoy_Final/XLS2/MFP0947609.xls', 'D:/Tanmoy_Final/XLS2/MFP0947757.xls', 'D:/Tanmoy_Final/XLS2/MFP0947779.xls', 'D:/Tanmoy_Final/XLS2/MFP0948089.xls', 'D:/Tanmoy_Final/XLS2/MFP0948090.xls', 'D:/Tanmoy_Final/XLS2/MFP0948094.xls', 'D:/Tanmoy_Final/XLS2/MFP0948677.xls', 'D:/Tanmoy_Final/XLS2/MFP0948684.xls', 'D:/Tanmoy_Final/XLS2/MFP0948712.xls', 'D:/Tanmoy_Final/XLS2/MFP0948825.xls', 'D:/Tanmoy_Final/XLS2/MFP0948836.xls', 'D:/Tanmoy_Final/XLS2/MFP0948883.xls', 'D:/Tanmoy_Final/XLS2/MFP0949012.xls', 'D:/Tanmoy_Final/XLS2/MFP0949021.xls', 'D:/Tanmoy_Final/XLS2/MFP0949046.xls', 'D:/Tanmoy_Final/XLS2/MFP0949048.xls', 'D:/Tanmoy_Final/XLS2/MFP0949049.xls', 'D:/Tanmoy_Final/XLS2/MFP0949215.xls', 'D:/Tanmoy_Final/XLS2/MFP0949225.xls', 'D:/Tanmoy_Final/XLS2/MFP0949252.xls', 'D:/Tanmoy_Final/XLS2/MFP0949253.xls', 'D:/Tanmoy_Final/XLS2/MFP0949293.xls', 'D:/Tanmoy_Final/XLS2/MFP0949449.xls', 'D:/Tanmoy_Final/XLS2/MFP0949450.xls', 'D:/Tanmoy_Final/XLS2/MFP0949472.xls', 'D:/Tanmoy_Final/XLS2/MFP0949473.xls', 'D:/Tanmoy_Final/XLS2/MFP0949775.xls', 'D:/Tanmoy_Final/XLS2/MFP0949796.xls', 'D:/Tanmoy_Final/XLS2/MFP0950053.xls', 'D:/Tanmoy_Final/XLS2/MFP0950075.xls', 'D:/Tanmoy_Final/XLS2/MFP0950076.xls', 'D:/Tanmoy_Final/XLS2/MFP0950222.xls', 'D:/Tanmoy_Final/XLS2/MFP0950270.xls', 'D:/Tanmoy_Final/XLS2/MFP0950400.xls', 'D:/Tanmoy_Final/XLS2/MFP0950462.xls', 'D:/Tanmoy_Final/XLS2/MFP0950467.xls', 'D:/Tanmoy_Final/XLS2/MFP0950468.xls', 'D:/Tanmoy_Final/XLS2/MFP0950469.xls', 'D:/Tanmoy_Final/XLS2/MFP0950470.xls', 'D:/Tanmoy_Final/XLS2/MFP0950478.xls', 'D:/Tanmoy_Final/XLS2/MFP0950480.xls', 'D:/Tanmoy_Final/XLS2/MFP0950485.xls', 'D:/Tanmoy_Final/XLS2/MFP0950498.xls', 'D:/Tanmoy_Final/XLS2/MFP0950595.xls', 'D:/Tanmoy_Final/XLS2/MFP0950615.xls', 'D:/Tanmoy_Final/XLS2/MFP0950617.xls', 'D:/Tanmoy_Final/XLS2/MFP0950618.xls', 'D:/Tanmoy_Final/XLS2/MFP0950620.xls', 'D:/Tanmoy_Final/XLS2/MFP0950621.xls', 'D:/Tanmoy_Final/XLS2/MFP0950626.xls', 'D:/Tanmoy_Final/XLS2/MFP0950630.xls', 'D:/Tanmoy_Final/XLS2/MFP0951211.xls', 'D:/Tanmoy_Final/XLS2/MFP0951227.xls', 'D:/Tanmoy_Final/XLS2/MFP0951282.xls', 'D:/Tanmoy_Final/XLS2/MFP0951290.xls', 'D:/Tanmoy_Final/XLS2/MFP0951317.xls', 'D:/Tanmoy_Final/XLS2/MFP0951325.xls', 'D:/Tanmoy_Final/XLS2/MFP0951359.xls', 'D:/Tanmoy_Final/XLS2/MFP0951364.xls', 'D:/Tanmoy_Final/XLS2/MFP0951436.xls', 'D:/Tanmoy_Final/XLS2/MFP0951437.xls', 'D:/Tanmoy_Final/XLS2/MFP0951438.xls', 'D:/Tanmoy_Final/XLS2/MFP0951439.xls', 'D:/Tanmoy_Final/XLS2/MFP0951440.xls', 'D:/Tanmoy_Final/XLS2/MFP0951479.xls', 'D:/Tanmoy_Final/XLS2/MFP0951481.xls', 'D:/Tanmoy_Final/XLS2/MFP0951823.xls', 'D:/Tanmoy_Final/XLS2/MFP0951829.xls', 'D:/Tanmoy_Final/XLS2/MFP0951934.xls', 'D:/Tanmoy_Final/XLS2/MFP0951937.xls', 'D:/Tanmoy_Final/XLS2/MFP0952089.xls', 'D:/Tanmoy_Final/XLS2/MFP0952096.xls', 'D:/Tanmoy_Final/XLS2/MFP0952178.xls', 'D:/Tanmoy_Final/XLS2/MFP0952184.xls', 'D:/Tanmoy_Final/XLS2/MFP0952298.xls', 'D:/Tanmoy_Final/XLS2/MFP0952319.xls', 'D:/Tanmoy_Final/XLS2/MFP0952476.xls', 'D:/Tanmoy_Final/XLS2/MFP0952504.xls', 'D:/Tanmoy_Final/XLS2/MFP0953630.xls', 'D:/Tanmoy_Final/XLS2/MFP0953631.xls', 'D:/Tanmoy_Final/XLS2/MFP0953632.xls', 'D:/Tanmoy_Final/XLS2/MFP0953633.xls', 'D:/Tanmoy_Final/XLS2/MFP0953634.xls', 'D:/Tanmoy_Final/XLS2/MFP0953635.xls', 'D:/Tanmoy_Final/XLS2/MFP0953636.xls', 'D:/Tanmoy_Final/XLS2/MFP0953637.xls', 'D:/Tanmoy_Final/XLS2/MFP0953641.xls', 'D:/Tanmoy_Final/XLS2/MFP0953642.xls', 'D:/Tanmoy_Final/XLS2/MFP0953649.xls', 'D:/Tanmoy_Final/XLS2/MFP0953651.xls', 'D:/Tanmoy_Final/XLS2/MFP0953669.xls', 'D:/Tanmoy_Final/XLS2/MFP0953671.xls', 'D:/Tanmoy_Final/XLS2/MFP0953674.xls', 'D:/Tanmoy_Final/XLS2/MFP0953685.xls', 'D:/Tanmoy_Final/XLS2/MFP0953715.xls', 'D:/Tanmoy_Final/XLS2/MFP0954457.xls', 'D:/Tanmoy_Final/XLS2/MFP0954459.xls', 'D:/Tanmoy_Final/XLS2/MFP0954504.xls', 'D:/Tanmoy_Final/XLS2/MFP0954553.xls', 'D:/Tanmoy_Final/XLS2/MFP0954561.xls', 'D:/Tanmoy_Final/XLS2/MFP0954610.xls', 'D:/Tanmoy_Final/XLS2/MFP0954617.xls', 'D:/Tanmoy_Final/XLS2/MFP0954717.xls', 'D:/Tanmoy_Final/XLS2/MFP0954738.xls', 'D:/Tanmoy_Final/XLS2/MFP0954939.xls', 'D:/Tanmoy_Final/XLS2/MFP0954965.xls', 'D:/Tanmoy_Final/XLS2/MFP0956800.xls', 'D:/Tanmoy_Final/XLS2/MFP0957073.xls', 'D:/Tanmoy_Final/XLS2/MFP0957077.xls', 'D:/Tanmoy_Final/XLS2/MFP0957078.xls', 'D:/Tanmoy_Final/XLS2/MFP0957079.xls', 'D:/Tanmoy_Final/XLS2/MFP0957080.xls', 'D:/Tanmoy_Final/XLS2/MFP0957081.xls', 'D:/Tanmoy_Final/XLS2/MFP0957082.xls', 'D:/Tanmoy_Final/XLS2/MFP0957083.xls', 'D:/Tanmoy_Final/XLS2/MFP0957086.xls', 'D:/Tanmoy_Final/XLS2/MFP0957087.xls', 'D:/Tanmoy_Final/XLS2/MFP0957098.xls', 'D:/Tanmoy_Final/XLS2/MFP0957100.xls', 'D:/Tanmoy_Final/XLS2/MFP0957103.xls', 'D:/Tanmoy_Final/XLS2/MFP0957110.xls', 'D:/Tanmoy_Final/XLS2/MFP0957113.xls', 'D:/Tanmoy_Final/XLS2/MFP0957134.xls', 'D:/Tanmoy_Final/XLS2/MFP0957139.xls', 'D:/Tanmoy_Final/XLS2/MFP0957559.xls', 'D:/Tanmoy_Final/XLS2/MFP0957560.xls', 'D:/Tanmoy_Final/XLS2/MFP0957561.xls', 'D:/Tanmoy_Final/XLS2/MFP0957562.xls', 'D:/Tanmoy_Final/XLS2/MFP0957563.xls', 'D:/Tanmoy_Final/XLS2/MFP0957564.xls', 'D:/Tanmoy_Final/XLS2/MFP0957565.xls', 'D:/Tanmoy_Final/XLS2/MFP0957566.xls', 'D:/Tanmoy_Final/XLS2/MFP0957567.xls', 'D:/Tanmoy_Final/XLS2/MFP0957568.xls', 'D:/Tanmoy_Final/XLS2/MFP0957569.xls', 'D:/Tanmoy_Final/XLS2/MFP0957570.xls', 'D:/Tanmoy_Final/XLS2/MFP0957904.xls', 'D:/Tanmoy_Final/XLS2/MFP0957915.xls', 'D:/Tanmoy_Final/XLS2/MFP0957991.xls', 'D:/Tanmoy_Final/XLS2/MFP0958001.xls', 'D:/Tanmoy_Final/XLS2/MFP0958073.xls', 'D:/Tanmoy_Final/XLS2/MFP0958089.xls', 'D:/Tanmoy_Final/XLS2/MFP0958195.xls', 'D:/Tanmoy_Final/XLS2/MFP0958215.xls', 'D:/Tanmoy_Final/XLS2/MFP0959209.xls', 'D:/Tanmoy_Final/XLS2/MFP0959210.xls', 'D:/Tanmoy_Final/XLS2/MFP0959211.xls', 'D:/Tanmoy_Final/XLS2/MFP0959212.xls', 'D:/Tanmoy_Final/XLS2/MFP0959213.xls', 'D:/Tanmoy_Final/XLS2/MFP0959214.xls', 'D:/Tanmoy_Final/XLS2/MFP0959219.xls', 'D:/Tanmoy_Final/XLS2/MFP0959238.xls', 'D:/Tanmoy_Final/XLS2/MFP0959239.xls', 'D:/Tanmoy_Final/XLS2/MFP0959240.xls', 'D:/Tanmoy_Final/XLS2/MFP0959241.xls', 'D:/Tanmoy_Final/XLS2/MFP0959242.xls', 'D:/Tanmoy_Final/XLS2/MFP0959244.xls', 'D:/Tanmoy_Final/XLS2/MFP0959429.xls', 'D:/Tanmoy_Final/XLS2/MFP0959430.xls', 'D:/Tanmoy_Final/XLS2/MFP0959678.xls', 'D:/Tanmoy_Final/XLS2/MFP0959679.xls', 'D:/Tanmoy_Final/XLS2/MFP0959693.xls', 'D:/Tanmoy_Final/XLS2/MFP0959702.xls', 'D:/Tanmoy_Final/XLS2/MFP0959717.xls', 'D:/Tanmoy_Final/XLS2/MFP0959747.xls', 'D:/Tanmoy_Final/XLS2/MFP0959763.xls', 'D:/Tanmoy_Final/XLS2/MFP0959781.xls', 'D:/Tanmoy_Final/XLS2/MFP0959784.xls', 'D:/Tanmoy_Final/XLS2/MFP0959816.xls', 'D:/Tanmoy_Final/XLS2/MFP0959818.xls', 'D:/Tanmoy_Final/XLS2/MFP0960035.xls', 'D:/Tanmoy_Final/XLS2/MFP0960217.xls', 'D:/Tanmoy_Final/XLS2/MFP0960218.xls', 'D:/Tanmoy_Final/XLS2/MFP0960219.xls', 'D:/Tanmoy_Final/XLS2/MFP0960221.xls', 'D:/Tanmoy_Final/XLS2/MFP0960789.xls', 'D:/Tanmoy_Final/XLS2/MFP0961047.xls', 'D:/Tanmoy_Final/XLS2/MFP0962649.xls', 'D:/Tanmoy_Final/XLS2/MFP0962827.XLS', 'D:/Tanmoy_Final/XLS2/MFP0964200.xls', 'D:/Tanmoy_Final/XLS2/MFP0964386.xls', 'D:/Tanmoy_Final/XLS2/MFP0964540.xls', 'D:/Tanmoy_Final/XLS2/MFP0964618.xls', 'D:/Tanmoy_Final/XLS2/MFP0965661.xls', 'D:/Tanmoy_Final/XLS2/MFP0965663.xls', 'D:/Tanmoy_Final/XLS2/MFP0965806.xls', 'D:/Tanmoy_Final/XLS2/MFP0965873.xls', 'D:/Tanmoy_Final/XLS2/MFP0966631.xls', 'D:/Tanmoy_Final/XLS2/MFP0966632.xls', 'D:/Tanmoy_Final/XLS2/MFP0967065.xls', 'D:/Tanmoy_Final/XLS2/MFP0967101.xls', 'D:/Tanmoy_Final/XLS2/MFP0967136.xls', 'D:/Tanmoy_Final/XLS2/MFP0967138.xls', 'D:/Tanmoy_Final/XLS2/MFP0967159.xls', 'D:/Tanmoy_Final/XLS2/MFP0967167.xls', 'D:/Tanmoy_Final/XLS2/MFP0967231.xls', 'D:/Tanmoy_Final/XLS2/MFP0967269.xls', 'D:/Tanmoy_Final/XLS2/MFP0967404.xls', 'D:/Tanmoy_Final/XLS2/MFP0967447.xls', 'D:/Tanmoy_Final/XLS2/MFP0967468.xls', 'D:/Tanmoy_Final/XLS2/MFP0967479.xls', 'D:/Tanmoy_Final/XLS2/MFP0968242.xls', 'D:/Tanmoy_Final/XLS2/MFP0968258.xls', 'D:/Tanmoy_Final/XLS2/MFP0968348.xls', 'D:/Tanmoy_Final/XLS2/MFP0968466.xls', 'D:/Tanmoy_Final/XLS2/MFP0968496.xls', 'D:/Tanmoy_Final/XLS2/MFP0968517.xls', 'D:/Tanmoy_Final/XLS2/MFP0968528.xls', 'D:/Tanmoy_Final/XLS2/MFP0968529.xls', 'D:/Tanmoy_Final/XLS2/MFP0968530.xls', 'D:/Tanmoy_Final/XLS2/MFP0968531.xls', 'D:/Tanmoy_Final/XLS2/MFP0968532.xls', 'D:/Tanmoy_Final/XLS2/MFP0968576.xls', 'D:/Tanmoy_Final/XLS2/MFP0968577.xls', 'D:/Tanmoy_Final/XLS2/MFP0968581.xls', 'D:/Tanmoy_Final/XLS2/MFP0968583.xls', 'D:/Tanmoy_Final/XLS2/MFP0968585.xls', 'D:/Tanmoy_Final/XLS2/MFP0968587.xls', 'D:/Tanmoy_Final/XLS2/MFP0968588.xls', 'D:/Tanmoy_Final/XLS2/MFP0968739.xls', 'D:/Tanmoy_Final/XLS2/MFP0968845.xls', 'D:/Tanmoy_Final/XLS2/MFP0968936.xls', 'D:/Tanmoy_Final/XLS2/MFP0968979.xls', 'D:/Tanmoy_Final/XLS2/MFP0968981.xls', 'D:/Tanmoy_Final/XLS2/MFP0969030.xls', 'D:/Tanmoy_Final/XLS2/MFP0969168.xls', 'D:/Tanmoy_Final/XLS2/MFP0969203.xls', 'D:/Tanmoy_Final/XLS2/MFP0969247.xls', 'D:/Tanmoy_Final/XLS2/MFP0969386.xls', 'D:/Tanmoy_Final/XLS2/MFP0969402.xls', 'D:/Tanmoy_Final/XLS2/MFP0969632.xls', 'D:/Tanmoy_Final/XLS2/MFP0969708.xls', 'D:/Tanmoy_Final/XLS2/MFP0969991.xls', 'D:/Tanmoy_Final/XLS2/MFP0970096.xls', 'D:/Tanmoy_Final/XLS2/MFP0970097.xls', 'D:/Tanmoy_Final/XLS2/MFP0970100.xls', 'D:/Tanmoy_Final/XLS2/MFP0970140.xls', 'D:/Tanmoy_Final/XLS2/MFP0970188.xls', 'D:/Tanmoy_Final/XLS2/MFP0970416.xls', 'D:/Tanmoy_Final/XLS2/MFP0970506.xls', 'D:/Tanmoy_Final/XLS2/MFP0970567.xls', 'D:/Tanmoy_Final/XLS2/MFP0970568.xls', 'D:/Tanmoy_Final/XLS2/MFP0970569.xls', 'D:/Tanmoy_Final/XLS2/MFP0970570.xls', 'D:/Tanmoy_Final/XLS2/MFP0970571.xls', 'D:/Tanmoy_Final/XLS2/MFP0970572.xls', 'D:/Tanmoy_Final/XLS2/MFP0970573.xls', 'D:/Tanmoy_Final/XLS2/MFP0970574.xls', 'D:/Tanmoy_Final/XLS2/MFP0970575.xls', 'D:/Tanmoy_Final/XLS2/MFP0970576.xls', 'D:/Tanmoy_Final/XLS2/MFP0970577.xls', 'D:/Tanmoy_Final/XLS2/MFP0970578.xls', 'D:/Tanmoy_Final/XLS2/MFP0970854.xls', 'D:/Tanmoy_Final/XLS2/MFP0970923.xls', 'D:/Tanmoy_Final/XLS2/MFP0971067.xls', 'D:/Tanmoy_Final/XLS2/MFP0971193.xls', 'D:/Tanmoy_Final/XLS2/MFP0971468.xls', 'D:/Tanmoy_Final/XLS2/MFP0971591.xls', 'D:/Tanmoy_Final/XLS2/MFP0971738.xls', 'D:/Tanmoy_Final/XLS2/MFP0971810.xls', 'D:/Tanmoy_Final/XLS2/MFP0971957.xls', 'D:/Tanmoy_Final/XLS2/MFP0972029.xls', 'D:/Tanmoy_Final/XLS2/MFP0972173.xls', 'D:/Tanmoy_Final/XLS2/MFP0972235.xls', 'D:/Tanmoy_Final/XLS2/MFP0972792.xls', 'D:/Tanmoy_Final/XLS2/MFP0972896.xls', 'D:/Tanmoy_Final/XLS2/MFP0972905.xls', 'D:/Tanmoy_Final/XLS2/MFP0973038.xls', 'D:/Tanmoy_Final/XLS2/MFP0973050.xls', 'D:/Tanmoy_Final/XLS2/MFP0973135.xls', 'D:/Tanmoy_Final/XLS2/MFP0973143.xls', 'D:/Tanmoy_Final/XLS2/MFP0973169.xls', 'D:/Tanmoy_Final/XLS2/MFP0973180.xls', 'D:/Tanmoy_Final/XLS2/MFP0973286.xls', 'D:/Tanmoy_Final/XLS2/MFP0974948.xls', 'D:/Tanmoy_Final/XLS2/MFP0974954.xls', 'D:/Tanmoy_Final/XLS2/MFP0974959.xls', 'D:/Tanmoy_Final/XLS2/MFP0975023.xls', 'D:/Tanmoy_Final/XLS2/MFP0975096.xls', 'D:/Tanmoy_Final/XLS2/MFP0975336.xls', 'D:/Tanmoy_Final/XLS2/MFP0975401.xls', 'D:/Tanmoy_Final/XLS2/MFP0975409.xls', 'D:/Tanmoy_Final/XLS2/MFP0975511.xls', 'D:/Tanmoy_Final/XLS2/MFP0975517.xls', 'D:/Tanmoy_Final/XLS2/MFP0975619.xls', 'D:/Tanmoy_Final/XLS2/MFP0975627.xls', 'D:/Tanmoy_Final/XLS2/MFP0975740.xls', 'D:/Tanmoy_Final/XLS2/MFP0975758.xls', 'D:/Tanmoy_Final/XLS2/MFP0977378.xls', 'D:/Tanmoy_Final/XLS2/MFP0977379.xls', 'D:/Tanmoy_Final/XLS2/MFP0977380.xls', 'D:/Tanmoy_Final/XLS2/MFP0977381.xls', 'D:/Tanmoy_Final/XLS2/MFP0977382.xls', 'D:/Tanmoy_Final/XLS2/MFP0977383.xls', 'D:/Tanmoy_Final/XLS2/MFP0977384.xls', 'D:/Tanmoy_Final/XLS2/MFP0977670.xls', 'D:/Tanmoy_Final/XLS2/MFP0977693.xls', 'D:/Tanmoy_Final/XLS2/MFP0977699.xls', 'D:/Tanmoy_Final/XLS2/MFP0977888.xls', 'D:/Tanmoy_Final/XLS2/MFP0977899.xls', 'D:/Tanmoy_Final/XLS2/MFP0977900.xls', 'D:/Tanmoy_Final/XLS2/MFP0977942.xls', 'D:/Tanmoy_Final/XLS2/MFP0977953.xls', 'D:/Tanmoy_Final/XLS2/MFP0978091.xls', 'D:/Tanmoy_Final/XLS2/MFP0978092.xls', 'D:/Tanmoy_Final/XLS2/MFP0978124.xls', 'D:/Tanmoy_Final/XLS2/MFP0978137.xls', 'D:/Tanmoy_Final/XLS2/MFP0978293.xls', 'D:/Tanmoy_Final/XLS2/MFP0978343.xls', 'D:/Tanmoy_Final/XLS2/MFP0978503.xls', 'D:/Tanmoy_Final/XLS2/MFP0978519.xls', 'D:/Tanmoy_Final/XLS2/MFP0980259.xls', 'D:/Tanmoy_Final/XLS2/MFP0980270.xls', 'D:/Tanmoy_Final/XLS2/MFP0980358.xls', 'D:/Tanmoy_Final/XLS2/MFP0980360.xls', 'D:/Tanmoy_Final/XLS2/MFP0980361.xls', 'D:/Tanmoy_Final/XLS2/MFP0980362.xls', 'D:/Tanmoy_Final/XLS2/MFP0980363.xls', 'D:/Tanmoy_Final/XLS2/MFP0980364.xls', 'D:/Tanmoy_Final/XLS2/MFP0980365.xls', 'D:/Tanmoy_Final/XLS2/MFP0980366.xls', 'D:/Tanmoy_Final/XLS2/MFP0980673.xls', 'D:/Tanmoy_Final/XLS2/MFP0980679.xls', 'D:/Tanmoy_Final/XLS2/MFP0980685.xls', 'D:/Tanmoy_Final/XLS2/MFP0980691.xls', 'D:/Tanmoy_Final/XLS2/MFP0980702.xls', 'D:/Tanmoy_Final/XLS2/MFP0980703.xls', 'D:/Tanmoy_Final/XLS2/MFP0980707.xls', 'D:/Tanmoy_Final/XLS2/MFP0980806.xls', 'D:/Tanmoy_Final/XLS2/MFP0980829.xls', 'D:/Tanmoy_Final/XLS2/MFP0980833.xls', 'D:/Tanmoy_Final/XLS2/MFP0980871.xls', 'D:/Tanmoy_Final/XLS2/MFP0981096.xls', 'D:/Tanmoy_Final/XLS2/MFP0981138.xls', 'D:/Tanmoy_Final/XLS2/MFP0981158.xls', 'D:/Tanmoy_Final/XLS2/MFP0981170.xls', 'D:/Tanmoy_Final/XLS2/MFP0981343.xls', 'D:/Tanmoy_Final/XLS2/MFP0981350.xls', 'D:/Tanmoy_Final/XLS2/MFP0981355.xls', 'D:/Tanmoy_Final/XLS2/MFP0981356.xls', 'D:/Tanmoy_Final/XLS2/MFP0981358.xls', 'D:/Tanmoy_Final/XLS2/MFP0981359.xls', 'D:/Tanmoy_Final/XLS2/MFP0981360.xls', 'D:/Tanmoy_Final/XLS2/MFP0981361.xls', 'D:/Tanmoy_Final/XLS2/MFP0981362.xls', 'D:/Tanmoy_Final/XLS2/MFP0981364.xls', 'D:/Tanmoy_Final/XLS2/MFP0981366.xls', 'D:/Tanmoy_Final/XLS2/MFP0981368.xls', 'D:/Tanmoy_Final/XLS2/MFP0981370.xls', 'D:/Tanmoy_Final/XLS2/MFP0981372.xls', 'D:/Tanmoy_Final/XLS2/MFP0981374.xls', 'D:/Tanmoy_Final/XLS2/MFP0981395.xls', 'D:/Tanmoy_Final/XLS2/MFP0981396.xls', 'D:/Tanmoy_Final/XLS2/MFP0981401.xls', 'D:/Tanmoy_Final/XLS2/MFP0981542.xls', 'D:/Tanmoy_Final/XLS2/MFP0981544.xls', 'D:/Tanmoy_Final/XLS2/MFP0981575.xls', 'D:/Tanmoy_Final/XLS2/MFP0981576.xls', 'D:/Tanmoy_Final/XLS2/MFP0981577.xls', 'D:/Tanmoy_Final/XLS2/MFP0981578.xls', 'D:/Tanmoy_Final/XLS2/MFP0981579.xls', 'D:/Tanmoy_Final/XLS2/MFP0981580.xls', 'D:/Tanmoy_Final/XLS2/MFP0981581.xls', 'D:/Tanmoy_Final/XLS2/MFP0981583.xls', 'D:/Tanmoy_Final/XLS2/MFP0981584.xls', 'D:/Tanmoy_Final/XLS2/MFP0981585.xls', 'D:/Tanmoy_Final/XLS2/MFP0981587.xls', 'D:/Tanmoy_Final/XLS2/MFP0981588.xls', 'D:/Tanmoy_Final/XLS2/MFP0981589.xls', 'D:/Tanmoy_Final/XLS2/MFP0981590.xls', 'D:/Tanmoy_Final/XLS2/MFP0981591.xls', 'D:/Tanmoy_Final/XLS2/MFP0981592.xls', 'D:/Tanmoy_Final/XLS2/MFP0981593.xls', 'D:/Tanmoy_Final/XLS2/MFP0981594.xls', 'D:/Tanmoy_Final/XLS2/MFP0981595.xls', 'D:/Tanmoy_Final/XLS2/MFP0981597.xls', 'D:/Tanmoy_Final/XLS2/MFP0981598.xls', 'D:/Tanmoy_Final/XLS2/MFP0981599.xls', 'D:/Tanmoy_Final/XLS2/MFP0981600.xls', 'D:/Tanmoy_Final/XLS2/MFP0981601.xls', 'D:/Tanmoy_Final/XLS2/MFP0981602.xls', 'D:/Tanmoy_Final/XLS2/MFP0981603.xls', 'D:/Tanmoy_Final/XLS2/MFP0981606.xls', 'D:/Tanmoy_Final/XLS2/MFP0981630.xls', 'D:/Tanmoy_Final/XLS2/MFP0981632.xls', 'D:/Tanmoy_Final/XLS2/MFP0981676.xls', 'D:/Tanmoy_Final/XLS2/MFP0982134.xls', 'D:/Tanmoy_Final/XLS2/MFP0982138.xls', 'D:/Tanmoy_Final/XLS2/MFP0982883.xls', 'D:/Tanmoy_Final/XLS2/MFP0982884.xls', 'D:/Tanmoy_Final/XLS2/MFP0982888.xls', 'D:/Tanmoy_Final/XLS2/MFP0982889.xls', 'D:/Tanmoy_Final/XLS2/MFP0982891.xls', 'D:/Tanmoy_Final/XLS2/MFP0982892.xls', 'D:/Tanmoy_Final/XLS2/MFP0982895.xls', 'D:/Tanmoy_Final/XLS2/MFP0982896.xls', 'D:/Tanmoy_Final/XLS2/MFP0982963.xls', 'D:/Tanmoy_Final/XLS2/MFP0983034.xls', 'D:/Tanmoy_Final/XLS2/MFP0983057.xls', 'D:/Tanmoy_Final/XLS2/MFP0983058.xls', 'D:/Tanmoy_Final/XLS2/MFP0983060.xls', 'D:/Tanmoy_Final/XLS2/MFP0983064.xls', 'D:/Tanmoy_Final/XLS2/MFP0983071.xls', 'D:/Tanmoy_Final/XLS2/MFP0983072.xls', 'D:/Tanmoy_Final/XLS2/MFP0983073.xls', 'D:/Tanmoy_Final/XLS2/MFP0983077.xls', 'D:/Tanmoy_Final/XLS2/MFP0983079.xls', 'D:/Tanmoy_Final/XLS2/MFP0983086.xls', 'D:/Tanmoy_Final/XLS2/MFP0983088.xls', 'D:/Tanmoy_Final/XLS2/MFP0983089.xls', 'D:/Tanmoy_Final/XLS2/MFP0983114.xls', 'D:/Tanmoy_Final/XLS2/MFP0983121.xls', 'D:/Tanmoy_Final/XLS2/MFP0983134.xls', 'D:/Tanmoy_Final/XLS2/MFP0983137.xls', 'D:/Tanmoy_Final/XLS2/MFP0983213.xls', 'D:/Tanmoy_Final/XLS2/MFP0983227.xls', 'D:/Tanmoy_Final/XLS2/MFP0983230.xls', 'D:/Tanmoy_Final/XLS2/MFP0983247.xls', 'D:/Tanmoy_Final/XLS2/MFP0983249.xls', 'D:/Tanmoy_Final/XLS2/MFP0983253.xls', 'D:/Tanmoy_Final/XLS2/MFP0983445.xls', 'D:/Tanmoy_Final/XLS2/MFP0983446.xls', 'D:/Tanmoy_Final/XLS2/MFP0983447.xls', 'D:/Tanmoy_Final/XLS2/MFP0983449.xls', 'D:/Tanmoy_Final/XLS2/MFP0983451.xls', 'D:/Tanmoy_Final/XLS2/MFP0983453.xls', 'D:/Tanmoy_Final/XLS2/MFP0983455.xls', 'D:/Tanmoy_Final/XLS2/MFP0983457.xls', 'D:/Tanmoy_Final/XLS2/MFP0983459.xls', 'D:/Tanmoy_Final/XLS2/MFP0983463.xls', 'D:/Tanmoy_Final/XLS2/MFP0983465.xls', 'D:/Tanmoy_Final/XLS2/MFP0983467.xls', 'D:/Tanmoy_Final/XLS2/MFP0983469.xls', 'D:/Tanmoy_Final/XLS2/MFP0983473.xls', 'D:/Tanmoy_Final/XLS2/MFP0983475.xls', 'D:/Tanmoy_Final/XLS2/MFP0983477.xls', 'D:/Tanmoy_Final/XLS2/MFP0983481.xls', 'D:/Tanmoy_Final/XLS2/MFP0983483.xls', 'D:/Tanmoy_Final/XLS2/MFP0983485.xls', 'D:/Tanmoy_Final/XLS2/MFP0983488.xls', 'D:/Tanmoy_Final/XLS2/MFP0983491.xls', 'D:/Tanmoy_Final/XLS2/MFP0983494.xls', 'D:/Tanmoy_Final/XLS2/MFP0983496.xls', 'D:/Tanmoy_Final/XLS2/MFP0983500.xls', 'D:/Tanmoy_Final/XLS2/MFP0983502.xls', 'D:/Tanmoy_Final/XLS2/MFP0983504.xls', 'D:/Tanmoy_Final/XLS2/MFP0983506.xls', 'D:/Tanmoy_Final/XLS2/MFP0983508.xls', 'D:/Tanmoy_Final/XLS2/MFP0983510.xls', 'D:/Tanmoy_Final/XLS2/MFP0983512.xls', 'D:/Tanmoy_Final/XLS2/MFP0983514.xls', 'D:/Tanmoy_Final/XLS2/MFP0983516.xls', 'D:/Tanmoy_Final/XLS2/MFP0983519.xls', 'D:/Tanmoy_Final/XLS2/MFP0983521.xls', 'D:/Tanmoy_Final/XLS2/MFP0983524.xls', 'D:/Tanmoy_Final/XLS2/MFP0983526.xls', 'D:/Tanmoy_Final/XLS2/MFP0983528.xls', 'D:/Tanmoy_Final/XLS2/MFP0983530.xls', 'D:/Tanmoy_Final/XLS2/MFP0983534.xls', 'D:/Tanmoy_Final/XLS2/MFP0983536.xls', 'D:/Tanmoy_Final/XLS2/MFP0983538.xls', 'D:/Tanmoy_Final/XLS2/MFP0983540.xls', 'D:/Tanmoy_Final/XLS2/MFP0983541.xls', 'D:/Tanmoy_Final/XLS2/MFP0983543.xls', 'D:/Tanmoy_Final/XLS2/MFP0983545.xls', 'D:/Tanmoy_Final/XLS2/MFP0983547.xls', 'D:/Tanmoy_Final/XLS2/MFP0983549.xls', 'D:/Tanmoy_Final/XLS2/MFP0983551.xls', 'D:/Tanmoy_Final/XLS2/MFP0983553.xls', 'D:/Tanmoy_Final/XLS2/MFP0983555.xls', 'D:/Tanmoy_Final/XLS2/MFP0983557.xls', 'D:/Tanmoy_Final/XLS2/MFP0983559.xls', 'D:/Tanmoy_Final/XLS2/MFP0983561.xls', 'D:/Tanmoy_Final/XLS2/MFP0983563.xls', 'D:/Tanmoy_Final/XLS2/MFP0983565.xls', 'D:/Tanmoy_Final/XLS2/MFP0983567.xls', 'D:/Tanmoy_Final/XLS2/MFP0983569.xls', 'D:/Tanmoy_Final/XLS2/MFP0983571.xls', 'D:/Tanmoy_Final/XLS2/MFP0983573.xls', 'D:/Tanmoy_Final/XLS2/MFP0983575.xls', 'D:/Tanmoy_Final/XLS2/MFP0983577.xls', 'D:/Tanmoy_Final/XLS2/MFP0983579.xls', 'D:/Tanmoy_Final/XLS2/MFP0983581.xls', 'D:/Tanmoy_Final/XLS2/MFP0983583.xls', 'D:/Tanmoy_Final/XLS2/MFP0983585.xls', 'D:/Tanmoy_Final/XLS2/MFP0983587.xls', 'D:/Tanmoy_Final/XLS2/MFP0983589.xls', 'D:/Tanmoy_Final/XLS2/MFP0983591.xls', 'D:/Tanmoy_Final/XLS2/MFP0983645.xls', 'D:/Tanmoy_Final/XLS2/MFP0983646.xls', 'D:/Tanmoy_Final/XLS2/MFP0983647.xls', 'D:/Tanmoy_Final/XLS2/MFP0983651.xls', 'D:/Tanmoy_Final/XLS2/MFP0983653.xls', 'D:/Tanmoy_Final/XLS2/MFP0983654.xls', 'D:/Tanmoy_Final/XLS2/MFP0983783.xls', 'D:/Tanmoy_Final/XLS2/MFP0983788.xls', 'D:/Tanmoy_Final/XLS2/MFP0983789.xls', 'D:/Tanmoy_Final/XLS2/MFP0983790.xls', 'D:/Tanmoy_Final/XLS2/MFP0983791.xls', 'D:/Tanmoy_Final/XLS2/MFP0983793.xls', 'D:/Tanmoy_Final/XLS2/MFP0983795.xls', 'D:/Tanmoy_Final/XLS2/MFP0983797.xls', 'D:/Tanmoy_Final/XLS2/MFP0983798.xls', 'D:/Tanmoy_Final/XLS2/MFP0983800.xls', 'D:/Tanmoy_Final/XLS2/MFP0983801.xls', 'D:/Tanmoy_Final/XLS2/MFP0983803.xls', 'D:/Tanmoy_Final/XLS2/MFP0983804.xls', 'D:/Tanmoy_Final/XLS2/MFP0983805.xls', 'D:/Tanmoy_Final/XLS2/MFP0983807.xls', 'D:/Tanmoy_Final/XLS2/MFP0983808.xls', 'D:/Tanmoy_Final/XLS2/MFP0983809.xls', 'D:/Tanmoy_Final/XLS2/MFP0983810.xls', 'D:/Tanmoy_Final/XLS2/MFP0983811.xls', 'D:/Tanmoy_Final/XLS2/MFP0983812.xls', 'D:/Tanmoy_Final/XLS2/MFP0983813.xls', 'D:/Tanmoy_Final/XLS2/MFP0983815.xls', 'D:/Tanmoy_Final/XLS2/MFP0983817.xls', 'D:/Tanmoy_Final/XLS2/MFP0983819.xls', 'D:/Tanmoy_Final/XLS2/MFP0983821.xls', 'D:/Tanmoy_Final/XLS2/MFP0983822.xls', 'D:/Tanmoy_Final/XLS2/MFP0983823.xls', 'D:/Tanmoy_Final/XLS2/MFP0983825.xls', 'D:/Tanmoy_Final/XLS2/MFP0983827.xls', 'D:/Tanmoy_Final/XLS2/MFP0983829.xls', 'D:/Tanmoy_Final/XLS2/MFP0983831.xls', 'D:/Tanmoy_Final/XLS2/MFP0983832.xls', 'D:/Tanmoy_Final/XLS2/MFP0983833.xls', 'D:/Tanmoy_Final/XLS2/MFP0983834.xls', 'D:/Tanmoy_Final/XLS2/MFP0983835.xls', 'D:/Tanmoy_Final/XLS2/MFP0983837.xls', 'D:/Tanmoy_Final/XLS2/MFP0983839.xls', 'D:/Tanmoy_Final/XLS2/MFP0983840.xls', 'D:/Tanmoy_Final/XLS2/MFP0983841.xls', 'D:/Tanmoy_Final/XLS2/MFP0983842.xls', 'D:/Tanmoy_Final/XLS2/MFP0983843.xls', 'D:/Tanmoy_Final/XLS2/MFP0983844.xls', 'D:/Tanmoy_Final/XLS2/MFP0983845.xls', 'D:/Tanmoy_Final/XLS2/MFP0983847.xls', 'D:/Tanmoy_Final/XLS2/MFP0983849.xls', 'D:/Tanmoy_Final/XLS2/MFP0983851.xls', 'D:/Tanmoy_Final/XLS2/MFP0983853.xls', 'D:/Tanmoy_Final/XLS2/MFP0983855.xls', 'D:/Tanmoy_Final/XLS2/MFP0983858.xls', 'D:/Tanmoy_Final/XLS2/MFP0983859.xls', 'D:/Tanmoy_Final/XLS2/MFP0983860.xls', 'D:/Tanmoy_Final/XLS2/MFP0983862.xls', 'D:/Tanmoy_Final/XLS2/MFP0983864.xls', 'D:/Tanmoy_Final/XLS2/MFP0983865.xls', 'D:/Tanmoy_Final/XLS2/MFP0983866.xls', 'D:/Tanmoy_Final/XLS2/MFP0983930.xls', 'D:/Tanmoy_Final/XLS2/MFP0984161.xls', 'D:/Tanmoy_Final/XLS2/MFP0984533.xls', 'D:/Tanmoy_Final/XLS2/MFP0984534.xls', 'D:/Tanmoy_Final/XLS2/MFP0984661.xls', 'D:/Tanmoy_Final/XLS2/MFP0984662.xls', 'D:/Tanmoy_Final/XLS2/MFP0984663.xls', 'D:/Tanmoy_Final/XLS2/MFP0984664.xls', 'D:/Tanmoy_Final/XLS2/MFP0984665.xls', 'D:/Tanmoy_Final/XLS2/MFP0984666.xls', 'D:/Tanmoy_Final/XLS2/MFP0984838.xls', 'D:/Tanmoy_Final/XLS2/MFP0984843.xls', 'D:/Tanmoy_Final/XLS2/MFP0984844.xls', 'D:/Tanmoy_Final/XLS2/MFP0984846.xls', 'D:/Tanmoy_Final/XLS2/MFP0984847.xls', 'D:/Tanmoy_Final/XLS2/MFP0984849.xls', 'D:/Tanmoy_Final/XLS2/MFP0984850.xls', 'D:/Tanmoy_Final/XLS2/MFP0984851.xls', 'D:/Tanmoy_Final/XLS2/MFP0984854.xls', 'D:/Tanmoy_Final/XLS2/MFP0984855.xls', 'D:/Tanmoy_Final/XLS2/MFP0984857.xls', 'D:/Tanmoy_Final/XLS2/MFP0984858.xls', 'D:/Tanmoy_Final/XLS2/MFP0984859.xls', 'D:/Tanmoy_Final/XLS2/MFP0984860.xls', 'D:/Tanmoy_Final/XLS2/MFP0984861.xls', 'D:/Tanmoy_Final/XLS2/MFP0984862.xls', 'D:/Tanmoy_Final/XLS2/MFP0987408.xls', 'D:/Tanmoy_Final/XLS2/MFP0987678.xls', 'D:/Tanmoy_Final/XLS2/MFP0987762.xls', 'D:/Tanmoy_Final/XLS2/MFP0987777.xls', 'D:/Tanmoy_Final/XLS2/MFP0987779.xls', 'D:/Tanmoy_Final/XLS2/MFP0988785.xls', 'D:/Tanmoy_Final/XLS2/MFP0988796.xls', 'D:/Tanmoy_Final/XLS2/MFP0988797.xls', 'D:/Tanmoy_Final/XLS2/MFP0988803.xls', 'D:/Tanmoy_Final/XLS2/MFP0988807.xls', 'D:/Tanmoy_Final/XLS2/MFP1052609.xls', 'D:/Tanmoy_Final/XLS2/MFP1052811.xls', 'D:/Tanmoy_Final/XLS2/MFP1052822.xls', 'D:/Tanmoy_Final/XLS2/MFP1052832.xls', 'D:/Tanmoy_Final/XLS2/MFP1052834.xls', 'D:/Tanmoy_Final/XLS2/MFP1052893.xls', 'D:/Tanmoy_Final/XLS2/MFP1052899.xls', 'D:/Tanmoy_Final/XLS2/MFP1052985.xls', 'D:/Tanmoy_Final/XLS2/MFP1052986.xls', 'D:/Tanmoy_Final/XLS2/MFP1053016.xls', 'D:/Tanmoy_Final/XLS2/MFP1053018.xls', 'D:/Tanmoy_Final/XLS2/MFP1053022.xls', 'D:/Tanmoy_Final/XLS2/MFP1053032.xls', 'D:/Tanmoy_Final/XLS2/MFP1053033.xls', 'D:/Tanmoy_Final/XLS2/MFP1053038.xls', 'D:/Tanmoy_Final/XLS2/MFP1053039.xls', 'D:/Tanmoy_Final/XLS2/MFP1053146.xls', 'D:/Tanmoy_Final/XLS2/MFP1053373.xls', 'D:/Tanmoy_Final/XLS2/MFP1053381.xls', 'D:/Tanmoy_Final/XLS2/MFP1053513.xls', 'D:/Tanmoy_Final/XLS2/MFP1053515.xls', 'D:/Tanmoy_Final/XLS2/MFP1053559.xls', 'D:/Tanmoy_Final/XLS2/MFP1053664.xls', 'D:/Tanmoy_Final/XLS2/MFP1053680.xls', 'D:/Tanmoy_Final/XLS2/MFP1053699.xls', 'D:/Tanmoy_Final/XLS2/MFP1053701.xls', 'D:/Tanmoy_Final/XLS2/MFP1053794.xls', 'D:/Tanmoy_Final/XLS2/MFP1053854.xls', 'D:/Tanmoy_Final/XLS2/MFP1053856.xls', 'D:/Tanmoy_Final/XLS2/MFP1053858.xls', 'D:/Tanmoy_Final/XLS2/MFP1053860.xls', 'D:/Tanmoy_Final/XLS2/MFP1053863.xls', 'D:/Tanmoy_Final/XLS2/MFP1053866.xls', 'D:/Tanmoy_Final/XLS2/MFP1053868.xls', 'D:/Tanmoy_Final/XLS2/MFP1053870.xls', 'D:/Tanmoy_Final/XLS2/MFP1053874.xls', 'D:/Tanmoy_Final/XLS2/MFP1053900.xls', 'D:/Tanmoy_Final/XLS2/MFP1053910.xls', 'D:/Tanmoy_Final/XLS2/MFP1053930.xls', 'D:/Tanmoy_Final/XLS2/MFP1053939.xls', 'D:/Tanmoy_Final/XLS2/MFP1053956.xls', 'D:/Tanmoy_Final/XLS2/MFP1053969.xls', 'D:/Tanmoy_Final/XLS2/MFP1054404.xls', 'D:/Tanmoy_Final/XLS2/MFP1054406.xls', 'D:/Tanmoy_Final/XLS2/MFP1054408.xls', 'D:/Tanmoy_Final/XLS2/MFP1054410.xls', 'D:/Tanmoy_Final/XLS2/MFP1054412.xls', 'D:/Tanmoy_Final/XLS2/MFP1054416.xls', 'D:/Tanmoy_Final/XLS2/MFP1054458.xls', 'D:/Tanmoy_Final/XLS2/MFP1054583.xls', 'D:/Tanmoy_Final/XLS2/MFP1054591.xls', 'D:/Tanmoy_Final/XLS2/MFP1054609.xls', 'D:/Tanmoy_Final/XLS2/MFP1054618.xls', 'D:/Tanmoy_Final/XLS2/MFP1054629.xls', 'D:/Tanmoy_Final/XLS2/MFP1054650.xls', 'D:/Tanmoy_Final/XLS2/MFP1054777.xls', 'D:/Tanmoy_Final/XLS2/MFP1054780.xls', 'D:/Tanmoy_Final/XLS2/MFP1054785.xls', 'D:/Tanmoy_Final/XLS2/MFP1054790.xls', 'D:/Tanmoy_Final/XLS2/MFP1054794.xls', 'D:/Tanmoy_Final/XLS2/MFP1054891.xls', 'D:/Tanmoy_Final/XLS2/MFP1054897.xls', 'D:/Tanmoy_Final/XLS2/MFP1054907.xls', 'D:/Tanmoy_Final/XLS2/MFP1054909.xls', 'D:/Tanmoy_Final/XLS2/MFP1054912.xls', 'D:/Tanmoy_Final/XLS2/MFP1054914.xls', 'D:/Tanmoy_Final/XLS2/MFP1054981.xls', 'D:/Tanmoy_Final/XLS2/MFP1054986.xls', 'D:/Tanmoy_Final/XLS2/MFP1054988.xls', 'D:/Tanmoy_Final/XLS2/MFP1054999.xls', 'D:/Tanmoy_Final/XLS2/MFP1055001.xls', 'D:/Tanmoy_Final/XLS2/MFP1055010.xls', 'D:/Tanmoy_Final/XLS2/MFP1055011.xls', 'D:/Tanmoy_Final/XLS2/MFP1055029.xls', 'D:/Tanmoy_Final/XLS2/MFP1055030.xls', 'D:/Tanmoy_Final/XLS2/MFP1055038.xls', 'D:/Tanmoy_Final/XLS2/MFP1055039.xls', 'D:/Tanmoy_Final/XLS2/MFP1055048.xls', 'D:/Tanmoy_Final/XLS2/MFP1055049.xls', 'D:/Tanmoy_Final/XLS2/MFP1055053.xls', 'D:/Tanmoy_Final/XLS2/MFP1055055.xls', 'D:/Tanmoy_Final/XLS2/MFP1055072.xls', 'D:/Tanmoy_Final/XLS2/MFP1055081.xls', 'D:/Tanmoy_Final/XLS2/MFP1055085.xls', 'D:/Tanmoy_Final/XLS2/MFP1055095.xls', 'D:/Tanmoy_Final/XLS2/MFP1055173.xls', 'D:/Tanmoy_Final/XLS2/MFP1055253.xls', 'D:/Tanmoy_Final/XLS2/MFP1055288.xls', 'D:/Tanmoy_Final/XLS2/MFP1055317.xls', 'D:/Tanmoy_Final/XLS2/MFP1055411.xls', 'D:/Tanmoy_Final/XLS2/MFP1055416.xls', 'D:/Tanmoy_Final/XLS2/MFP1055446.xls', 'D:/Tanmoy_Final/XLS2/MFP1055448.xls', 'D:/Tanmoy_Final/XLS2/MFP1055473.xls', 'D:/Tanmoy_Final/XLS2/MFP1055475.xls', 'D:/Tanmoy_Final/XLS2/MFP1055477.xls', 'D:/Tanmoy_Final/XLS2/MFP1055479.xls', 'D:/Tanmoy_Final/XLS2/MFP1055481.xls', 'D:/Tanmoy_Final/XLS2/MFP1055484.xls', 'D:/Tanmoy_Final/XLS2/MFP1055486.xls', 'D:/Tanmoy_Final/XLS2/MFP1055488.xls', 'D:/Tanmoy_Final/XLS2/MFP1055490.xls', 'D:/Tanmoy_Final/XLS2/MFP1055870.xls', 'D:/Tanmoy_Final/XLS2/MFP1055872.xls', 'D:/Tanmoy_Final/XLS2/MFP1056159.xls', 'D:/Tanmoy_Final/XLS2/MFP1056229.xls', 'D:/Tanmoy_Final/XLS2/MFP1056258.xls', 'D:/Tanmoy_Final/XLS2/MFP1056280.xls', 'D:/Tanmoy_Final/XLS2/MFP1056281.xls', 'D:/Tanmoy_Final/XLS2/MFP1056290.xls', 'D:/Tanmoy_Final/XLS2/MFP1056291.xls', 'D:/Tanmoy_Final/XLS2/MFP1056313.xls', 'D:/Tanmoy_Final/XLS2/MFP1056314.xls', 'D:/Tanmoy_Final/XLS2/MFP1056444.xls', 'D:/Tanmoy_Final/XLS2/MFP1056445.xls', 'D:/Tanmoy_Final/XLS2/MFP1056469.xls', 'D:/Tanmoy_Final/XLS2/MFP1056472.xls', 'D:/Tanmoy_Final/XLS2/MFP1056474.xls', 'D:/Tanmoy_Final/XLS2/MFP1056476.xls', 'D:/Tanmoy_Final/XLS2/MFP1056478.xls', 'D:/Tanmoy_Final/XLS2/MFP1056480.xls', 'D:/Tanmoy_Final/XLS2/MFP1056518.xls', 'D:/Tanmoy_Final/XLS2/MFP1056522.xls', 'D:/Tanmoy_Final/XLS2/MFP1056533.xls', 'D:/Tanmoy_Final/XLS2/MFP1056541.xls', 'D:/Tanmoy_Final/XLS2/MFP1056619.xls', 'D:/Tanmoy_Final/XLS2/MFP1056620.xls', 'D:/Tanmoy_Final/XLS2/MFP1056640.xls', 'D:/Tanmoy_Final/XLS2/MFP1056651.xls', 'D:/Tanmoy_Final/XLS2/MFP1056652.xls', 'D:/Tanmoy_Final/XLS2/MFP1056679.xls', 'D:/Tanmoy_Final/XLS2/MFP1056680.xls', 'D:/Tanmoy_Final/XLS2/MFP1057191.xls']\n"
     ]
    }
   ],
   "source": [
    "import os\n",
    "files_list = []\n",
    "for root, directories, files in os.walk('D:/Tanmoy_Final/XLS2/'):\n",
    "    for name in files:\n",
    "        files_list.append(os.path.join(root, name))\n",
    "print(files_list)"
   ]
  },
  {
   "cell_type": "code",
   "execution_count": 5,
   "id": "bb4bb9c8",
   "metadata": {},
   "outputs": [],
   "source": [
    "df1=pd.DataFrame(files_list)"
   ]
  },
  {
   "cell_type": "code",
   "execution_count": 6,
   "id": "e7df2f52",
   "metadata": {},
   "outputs": [
    {
     "data": {
      "text/html": [
       "<div>\n",
       "<style scoped>\n",
       "    .dataframe tbody tr th:only-of-type {\n",
       "        vertical-align: middle;\n",
       "    }\n",
       "\n",
       "    .dataframe tbody tr th {\n",
       "        vertical-align: top;\n",
       "    }\n",
       "\n",
       "    .dataframe thead th {\n",
       "        text-align: right;\n",
       "    }\n",
       "</style>\n",
       "<table border=\"1\" class=\"dataframe\">\n",
       "  <thead>\n",
       "    <tr style=\"text-align: right;\">\n",
       "      <th></th>\n",
       "      <th>0</th>\n",
       "    </tr>\n",
       "  </thead>\n",
       "  <tbody>\n",
       "    <tr>\n",
       "      <th>0</th>\n",
       "      <td>D:/Tanmoy_Final/XLS2/MFP0642325.xls</td>\n",
       "    </tr>\n",
       "    <tr>\n",
       "      <th>1</th>\n",
       "      <td>D:/Tanmoy_Final/XLS2/MFP0642326.xls</td>\n",
       "    </tr>\n",
       "    <tr>\n",
       "      <th>2</th>\n",
       "      <td>D:/Tanmoy_Final/XLS2/MFP0642711.xls</td>\n",
       "    </tr>\n",
       "    <tr>\n",
       "      <th>3</th>\n",
       "      <td>D:/Tanmoy_Final/XLS2/MFP0643373.xls</td>\n",
       "    </tr>\n",
       "    <tr>\n",
       "      <th>4</th>\n",
       "      <td>D:/Tanmoy_Final/XLS2/MFP0643416.xls</td>\n",
       "    </tr>\n",
       "    <tr>\n",
       "      <th>...</th>\n",
       "      <td>...</td>\n",
       "    </tr>\n",
       "    <tr>\n",
       "      <th>1357</th>\n",
       "      <td>D:/Tanmoy_Final/XLS2/MFP1056651.xls</td>\n",
       "    </tr>\n",
       "    <tr>\n",
       "      <th>1358</th>\n",
       "      <td>D:/Tanmoy_Final/XLS2/MFP1056652.xls</td>\n",
       "    </tr>\n",
       "    <tr>\n",
       "      <th>1359</th>\n",
       "      <td>D:/Tanmoy_Final/XLS2/MFP1056679.xls</td>\n",
       "    </tr>\n",
       "    <tr>\n",
       "      <th>1360</th>\n",
       "      <td>D:/Tanmoy_Final/XLS2/MFP1056680.xls</td>\n",
       "    </tr>\n",
       "    <tr>\n",
       "      <th>1361</th>\n",
       "      <td>D:/Tanmoy_Final/XLS2/MFP1057191.xls</td>\n",
       "    </tr>\n",
       "  </tbody>\n",
       "</table>\n",
       "<p>1362 rows × 1 columns</p>\n",
       "</div>"
      ],
      "text/plain": [
       "                                        0\n",
       "0     D:/Tanmoy_Final/XLS2/MFP0642325.xls\n",
       "1     D:/Tanmoy_Final/XLS2/MFP0642326.xls\n",
       "2     D:/Tanmoy_Final/XLS2/MFP0642711.xls\n",
       "3     D:/Tanmoy_Final/XLS2/MFP0643373.xls\n",
       "4     D:/Tanmoy_Final/XLS2/MFP0643416.xls\n",
       "...                                   ...\n",
       "1357  D:/Tanmoy_Final/XLS2/MFP1056651.xls\n",
       "1358  D:/Tanmoy_Final/XLS2/MFP1056652.xls\n",
       "1359  D:/Tanmoy_Final/XLS2/MFP1056679.xls\n",
       "1360  D:/Tanmoy_Final/XLS2/MFP1056680.xls\n",
       "1361  D:/Tanmoy_Final/XLS2/MFP1057191.xls\n",
       "\n",
       "[1362 rows x 1 columns]"
      ]
     },
     "execution_count": 6,
     "metadata": {},
     "output_type": "execute_result"
    }
   ],
   "source": [
    "df1"
   ]
  },
  {
   "cell_type": "code",
   "execution_count": 7,
   "id": "2d6fb0d0",
   "metadata": {},
   "outputs": [
    {
     "data": {
      "text/plain": [
       "<bound method DataFrame.count of                                         0\n",
       "0     D:/Tanmoy_Final/XLS2/MFP0642325.xls\n",
       "1     D:/Tanmoy_Final/XLS2/MFP0642326.xls\n",
       "2     D:/Tanmoy_Final/XLS2/MFP0642711.xls\n",
       "3     D:/Tanmoy_Final/XLS2/MFP0643373.xls\n",
       "4     D:/Tanmoy_Final/XLS2/MFP0643416.xls\n",
       "...                                   ...\n",
       "1357  D:/Tanmoy_Final/XLS2/MFP1056651.xls\n",
       "1358  D:/Tanmoy_Final/XLS2/MFP1056652.xls\n",
       "1359  D:/Tanmoy_Final/XLS2/MFP1056679.xls\n",
       "1360  D:/Tanmoy_Final/XLS2/MFP1056680.xls\n",
       "1361  D:/Tanmoy_Final/XLS2/MFP1057191.xls\n",
       "\n",
       "[1362 rows x 1 columns]>"
      ]
     },
     "execution_count": 7,
     "metadata": {},
     "output_type": "execute_result"
    }
   ],
   "source": [
    "df1.count"
   ]
  },
  {
   "cell_type": "code",
   "execution_count": 14,
   "id": "3aced966",
   "metadata": {},
   "outputs": [],
   "source": [
    "df2=pd.DataFrame()\n",
    "df2=df1[0].str.split(r\"/\", expand=True)"
   ]
  },
  {
   "cell_type": "code",
   "execution_count": 8,
   "id": "fd0fb5ab",
   "metadata": {},
   "outputs": [],
   "source": [
    "df3=pd.read_excel(\"D:/Tanmoy_Final/Saurab1.xlsx\")"
   ]
  },
  {
   "cell_type": "code",
   "execution_count": 9,
   "id": "23cc0f87",
   "metadata": {},
   "outputs": [
    {
     "data": {
      "text/html": [
       "<div>\n",
       "<style scoped>\n",
       "    .dataframe tbody tr th:only-of-type {\n",
       "        vertical-align: middle;\n",
       "    }\n",
       "\n",
       "    .dataframe tbody tr th {\n",
       "        vertical-align: top;\n",
       "    }\n",
       "\n",
       "    .dataframe thead th {\n",
       "        text-align: right;\n",
       "    }\n",
       "</style>\n",
       "<table border=\"1\" class=\"dataframe\">\n",
       "  <thead>\n",
       "    <tr style=\"text-align: right;\">\n",
       "      <th></th>\n",
       "      <th>filename</th>\n",
       "    </tr>\n",
       "  </thead>\n",
       "  <tbody>\n",
       "    <tr>\n",
       "      <th>0</th>\n",
       "      <td>MFP0642325.xls</td>\n",
       "    </tr>\n",
       "    <tr>\n",
       "      <th>1</th>\n",
       "      <td>MFP0642326.xls</td>\n",
       "    </tr>\n",
       "    <tr>\n",
       "      <th>2</th>\n",
       "      <td>MFP0642711.xls</td>\n",
       "    </tr>\n",
       "    <tr>\n",
       "      <th>3</th>\n",
       "      <td>MFP0643373.xls</td>\n",
       "    </tr>\n",
       "    <tr>\n",
       "      <th>4</th>\n",
       "      <td>MFP0643416.xls</td>\n",
       "    </tr>\n",
       "    <tr>\n",
       "      <th>...</th>\n",
       "      <td>...</td>\n",
       "    </tr>\n",
       "    <tr>\n",
       "      <th>1357</th>\n",
       "      <td>MFP1056651.xls</td>\n",
       "    </tr>\n",
       "    <tr>\n",
       "      <th>1358</th>\n",
       "      <td>MFP1056652.xls</td>\n",
       "    </tr>\n",
       "    <tr>\n",
       "      <th>1359</th>\n",
       "      <td>MFP1056679.xls</td>\n",
       "    </tr>\n",
       "    <tr>\n",
       "      <th>1360</th>\n",
       "      <td>MFP1056680.xls</td>\n",
       "    </tr>\n",
       "    <tr>\n",
       "      <th>1361</th>\n",
       "      <td>MFP1057191.xls</td>\n",
       "    </tr>\n",
       "  </tbody>\n",
       "</table>\n",
       "<p>1362 rows × 1 columns</p>\n",
       "</div>"
      ],
      "text/plain": [
       "            filename\n",
       "0     MFP0642325.xls\n",
       "1     MFP0642326.xls\n",
       "2     MFP0642711.xls\n",
       "3     MFP0643373.xls\n",
       "4     MFP0643416.xls\n",
       "...              ...\n",
       "1357  MFP1056651.xls\n",
       "1358  MFP1056652.xls\n",
       "1359  MFP1056679.xls\n",
       "1360  MFP1056680.xls\n",
       "1361  MFP1057191.xls\n",
       "\n",
       "[1362 rows x 1 columns]"
      ]
     },
     "execution_count": 9,
     "metadata": {},
     "output_type": "execute_result"
    }
   ],
   "source": [
    "df3"
   ]
  },
  {
   "cell_type": "code",
   "execution_count": 10,
   "id": "d8731a01",
   "metadata": {},
   "outputs": [],
   "source": [
    "cond = df3['filename'].isin(df['filename'])\n",
    "df3.drop(df3[cond].index, inplace = True)"
   ]
  },
  {
   "cell_type": "code",
   "execution_count": 11,
   "id": "c318cdcd",
   "metadata": {},
   "outputs": [
    {
     "data": {
      "text/plain": [
       "<bound method DataFrame.count of             filename\n",
       "36    MFP0880326.XLS\n",
       "82    MFP0895330.XLS\n",
       "181   MFP0905586.XLS\n",
       "208   MFP0908096.XLS\n",
       "209   MFP0908097.XLS\n",
       "...              ...\n",
       "1357  MFP1056651.xls\n",
       "1358  MFP1056652.xls\n",
       "1359  MFP1056679.xls\n",
       "1360  MFP1056680.xls\n",
       "1361  MFP1057191.xls\n",
       "\n",
       "[997 rows x 1 columns]>"
      ]
     },
     "execution_count": 11,
     "metadata": {},
     "output_type": "execute_result"
    }
   ],
   "source": [
    "df3.count"
   ]
  },
  {
   "cell_type": "code",
   "execution_count": 57,
   "id": "7c6c96b7",
   "metadata": {},
   "outputs": [],
   "source": [
    "import shutil\n",
    "import os\n",
    "from shutil import copyfile\n",
    "src_dir = 'D:/Tanmoy_Final/XLS2/'\n",
    "dest_dir = 'D:/Ami/'\n",
    "for i in df3['filename']: \n",
    "    src_file = src_dir + \"\\\\\" + i \n",
    "    dest_file = dest_dir + \"\\\\\" + i \n",
    "    copyfile(src_file, dest_file)"
   ]
  },
  {
   "cell_type": "code",
   "execution_count": null,
   "id": "04581bc1",
   "metadata": {},
   "outputs": [],
   "source": []
  }
 ],
 "metadata": {
  "kernelspec": {
   "display_name": "Python 3",
   "language": "python",
   "name": "python3"
  },
  "language_info": {
   "codemirror_mode": {
    "name": "ipython",
    "version": 3
   },
   "file_extension": ".py",
   "mimetype": "text/x-python",
   "name": "python",
   "nbconvert_exporter": "python",
   "pygments_lexer": "ipython3",
   "version": "3.8.8"
  }
 },
 "nbformat": 4,
 "nbformat_minor": 5
}
