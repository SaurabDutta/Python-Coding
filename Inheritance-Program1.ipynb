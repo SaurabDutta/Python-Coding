{
 "cells": [
  {
   "cell_type": "code",
   "execution_count": 27,
   "metadata": {},
   "outputs": [
    {
     "name": "stdout",
     "output_type": "stream",
     "text": [
      "2000\n",
      "1000.0\n"
     ]
    }
   ],
   "source": [
    "class polygon:\n",
    "    __Width  = None\n",
    "    __Height = None\n",
    "#__Width variable is private,double indentation before any variable means private variable\n",
    "    \n",
    "    def set_values(self,width,height) :\n",
    "        self.__Width=width\n",
    "        self.__Height=height\n",
    "    \n",
    "    def get_width(self) :\n",
    "        return self.__Width\n",
    "    def get_height(self) :\n",
    "        return self.__Height\n",
    "\n",
    "class Rectangle(polygon) :\n",
    "    def area(self) :\n",
    "        return self.get_height() * self.get_width()\n",
    "\n",
    "class Triangle(polygon) :\n",
    "    def area(self) :\n",
    "        return self.get_height() * self.get_width() / 2 \n",
    "    \n",
    "rect = Rectangle()\n",
    "tri  = Triangle()\n",
    "rect.set_values(50,40)\n",
    "tri.set_values(50,40)\n",
    "print(rect.area())\n",
    "print(tri.area())"
   ]
  },
  {
   "cell_type": "code",
   "execution_count": null,
   "metadata": {},
   "outputs": [],
   "source": []
  },
  {
   "cell_type": "code",
   "execution_count": null,
   "metadata": {},
   "outputs": [],
   "source": []
  }
 ],
 "metadata": {
  "kernelspec": {
   "display_name": "Python 3",
   "language": "python",
   "name": "python3"
  },
  "language_info": {
   "codemirror_mode": {
    "name": "ipython",
    "version": 3
   },
   "file_extension": ".py",
   "mimetype": "text/x-python",
   "name": "python",
   "nbconvert_exporter": "python",
   "pygments_lexer": "ipython3",
   "version": "3.7.4"
  }
 },
 "nbformat": 4,
 "nbformat_minor": 2
}
